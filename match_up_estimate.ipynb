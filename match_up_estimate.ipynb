{
 "cells": [
  {
   "cell_type": "code",
   "execution_count": 1,
   "metadata": {},
   "outputs": [],
   "source": [
    "from espn_api.basketball import League, Matchup, Team\n",
    "from activity.myUtil import get_opponent_team, get_my_team\n",
    "from espn_api.basketball.week import Week\n",
    "from espn_api.basketball.roster_week_predictor import RosterWeekPredictor\n",
    "\n",
    "from IPython.display import HTML, display\n",
    "import tabulate"
   ]
  },
  {
   "cell_type": "code",
   "execution_count": 2,
   "metadata": {},
   "outputs": [],
   "source": [
    "espn_s2 = \"SEE README\"\n",
    "swid=\"SEE README\""
   ]
  },
  {
   "cell_type": "code",
   "execution_count": 3,
   "metadata": {},
   "outputs": [],
   "source": [
    "league = League(league_id=30695, year=2021, espn_s2=espn_s2, swid=swid)"
   ]
  },
  {
   "cell_type": "code",
   "execution_count": 4,
   "metadata": {},
   "outputs": [
    {
     "data": {
      "text/html": [
       "<table>\n",
       "<tbody>\n",
       "<tr><td>Team Name          </td><td>Team Id</td></tr>\n",
       "<tr><td>CZ ButtKicker      </td><td>1      </td></tr>\n",
       "<tr><td>SEA MoNeYPro       </td><td>2      </td></tr>\n",
       "<tr><td>NY Zhanos Diesel   </td><td>4      </td></tr>\n",
       "<tr><td>Shanghai SHARKS    </td><td>5      </td></tr>\n",
       "<tr><td>Team Tao           </td><td>7      </td></tr>\n",
       "<tr><td>Team Beyond        </td><td>9      </td></tr>\n",
       "<tr><td>PHI Lower Merion 33</td><td>11     </td></tr>\n",
       "<tr><td>Badwomen ``        </td><td>14     </td></tr>\n",
       "<tr><td>Dragon City Tiedan </td><td>15     </td></tr>\n",
       "<tr><td>Tim Liang          </td><td>16     </td></tr>\n",
       "</tbody>\n",
       "</table>"
      ],
      "text/plain": [
       "<IPython.core.display.HTML object>"
      ]
     },
     "metadata": {},
     "output_type": "display_data"
    }
   ],
   "source": [
    "table_output = [(\"Team Name\", \"Team Id\")]\n",
    "[table_output.append((team.team_name, team.team_id)) for team in league.teams]\n",
    "display(HTML(tabulate.tabulate(table_output, tablefmt='html')))"
   ]
  },
  {
   "cell_type": "markdown",
   "metadata": {},
   "source": [
    "Put your **team id** into the variable below:"
   ]
  },
  {
   "cell_type": "code",
   "execution_count": 5,
   "metadata": {},
   "outputs": [],
   "source": [
    "MY_TEAM_ID = 2"
   ]
  },
  {
   "cell_type": "code",
   "execution_count": 6,
   "metadata": {},
   "outputs": [
    {
     "data": {
      "text/html": [
       "<table>\n",
       "<tbody>\n",
       "<tr><td>Week Id</td><td>Opponent Team Name </td></tr>\n",
       "<tr><td>1      </td><td>Tim Liang          </td></tr>\n",
       "<tr><td>2      </td><td>Dragon City Tiedan </td></tr>\n",
       "<tr><td>3      </td><td>Team Beyond        </td></tr>\n",
       "<tr><td>4      </td><td>PHI Lower Merion 33</td></tr>\n",
       "<tr><td>5      </td><td>Team Tao           </td></tr>\n",
       "<tr><td>6      </td><td>CZ ButtKicker      </td></tr>\n",
       "<tr><td>7      </td><td>NY Zhanos Diesel   </td></tr>\n",
       "<tr><td>8      </td><td>Badwomen ``        </td></tr>\n",
       "<tr><td>9      </td><td>Team Tao           </td></tr>\n",
       "<tr><td>10     </td><td>Tim Liang          </td></tr>\n",
       "<tr><td>11     </td><td>Shanghai SHARKS    </td></tr>\n",
       "<tr><td>12     </td><td>Team Beyond        </td></tr>\n",
       "<tr><td>13     </td><td>PHI Lower Merion 33</td></tr>\n",
       "<tr><td>14     </td><td>Dragon City Tiedan </td></tr>\n",
       "<tr><td>15     </td><td>CZ ButtKicker      </td></tr>\n",
       "<tr><td>16     </td><td>NY Zhanos Diesel   </td></tr>\n",
       "<tr><td>17     </td><td>Badwomen ``        </td></tr>\n",
       "</tbody>\n",
       "</table>"
      ],
      "text/plain": [
       "<IPython.core.display.HTML object>"
      ]
     },
     "metadata": {},
     "output_type": "display_data"
    }
   ],
   "source": [
    "schedule = league.get_team_data(MY_TEAM_ID).schedule\n",
    "table_output = [(\"Week Id\", \"Opponent Team Name\")]\n",
    "[table_output.append((week_id + 1, get_opponent_team(matchup, MY_TEAM_ID).team_name)) for week_id, matchup in enumerate(schedule)]\n",
    "display(HTML(tabulate.tabulate(table_output, tablefmt='html')))"
   ]
  },
  {
   "cell_type": "code",
   "execution_count": 7,
   "metadata": {},
   "outputs": [],
   "source": [
    "WEEK_ID = 3"
   ]
  },
  {
   "cell_type": "code",
   "execution_count": 8,
   "metadata": {},
   "outputs": [],
   "source": [
    "currWeek = Week(league, WEEK_ID)"
   ]
  },
  {
   "cell_type": "code",
   "execution_count": 9,
   "metadata": {},
   "outputs": [],
   "source": [
    "predicted_points_team_name_map = {}\n",
    "number_of_games_team_name_map = {}\n",
    "for team in league.teams:\n",
    "    predictor = RosterWeekPredictor(team.roster, currWeek)\n",
    "    predicted_points_team_name_map[team.team_name] = predictor.predict()\n",
    "    number_of_games_team_name_map[team.team_name] = predictor.get_total_number_of_games()"
   ]
  },
  {
   "cell_type": "code",
   "execution_count": 10,
   "metadata": {},
   "outputs": [],
   "source": [
    "def get_tuple_average(tup):\n",
    "    return (tup[0] + tup[1]) / 2"
   ]
  },
  {
   "cell_type": "code",
   "execution_count": 11,
   "metadata": {},
   "outputs": [],
   "source": [
    "team_scores = {}\n",
    "for team in league.teams:\n",
    "    predicted_points = predicted_points_team_name_map[team.team_name]\n",
    "    team_scores[team.team_name] = predicted_points[0], predicted_points[1], get_tuple_average(predicted_points)"
   ]
  },
  {
   "cell_type": "code",
   "execution_count": 12,
   "metadata": {},
   "outputs": [],
   "source": [
    "table_output = []\n",
    "for team_name, scores in team_scores.items():\n",
    "    lo, hi, avg = scores\n",
    "    table_output.append((team_name, number_of_games_team_name_map[team_name], lo, hi, avg))\n",
    "table_output.sort(reverse=True, key=lambda x: x[-1])"
   ]
  },
  {
   "cell_type": "code",
   "execution_count": 13,
   "metadata": {},
   "outputs": [
    {
     "data": {
      "text/html": [
       "<table>\n",
       "<tbody>\n",
       "<tr><td>Team Name          </td><td># of games</td><td>Low               </td><td>High              </td><td>Avg               </td></tr>\n",
       "<tr><td>Shanghai SHARKS    </td><td>44        </td><td>1339.166933066933 </td><td>1713.9523809523807</td><td>1526.5596570096568</td></tr>\n",
       "<tr><td>CZ ButtKicker      </td><td>44        </td><td>1370.4705627705628</td><td>1673.6620879120878</td><td>1522.0663253413254</td></tr>\n",
       "<tr><td>Dragon City Tiedan </td><td>44        </td><td>1291.6880952380952</td><td>1672.8609307359309</td><td>1482.2745129870132</td></tr>\n",
       "<tr><td>PHI Lower Merion 33</td><td>42        </td><td>1256.642857142857 </td><td>1555.3203130203133</td><td>1405.9815850815853</td></tr>\n",
       "<tr><td>Tim Liang          </td><td>42        </td><td>1302.8570512820513</td><td>1505.848901098901 </td><td>1404.352976190476 </td></tr>\n",
       "<tr><td>NY Zhanos Diesel   </td><td>41        </td><td>1268.8269480519484</td><td>1539.5690476190475</td><td>1404.197997835498 </td></tr>\n",
       "<tr><td>Badwomen ``        </td><td>38        </td><td>1186.5192307692305</td><td>1428.4556776556778</td><td>1307.4874542124542</td></tr>\n",
       "<tr><td>Team Beyond        </td><td>40        </td><td>1139.819130869131 </td><td>1392.3397435897436</td><td>1266.0794372294372</td></tr>\n",
       "<tr><td>SEA MoNeYPro       </td><td>36        </td><td>1064.906227106227 </td><td>1365.1347985347984</td><td>1215.0205128205127</td></tr>\n",
       "<tr><td>Team Tao           </td><td>27        </td><td>811.4499999999999 </td><td>1022.9653679653679</td><td>917.2076839826839 </td></tr>\n",
       "</tbody>\n",
       "</table>"
      ],
      "text/plain": [
       "<IPython.core.display.HTML object>"
      ]
     },
     "metadata": {},
     "output_type": "display_data"
    }
   ],
   "source": [
    "table_output.insert(0, (\"Team Name\", \"# of games\", \"Low\", \"High\", \"Avg\"))\n",
    "display(HTML(tabulate.tabulate(table_output, tablefmt='html')))"
   ]
  },
  {
   "cell_type": "code",
   "execution_count": 14,
   "metadata": {},
   "outputs": [],
   "source": [
    "match_up_points = []\n",
    "match_up_points.append([\"Home Team\", \"Estimate Points\", \"# of Games\", \"Away Team\", \"Estimate Points\", \"# of Games\", \"+/-\"])\n",
    "for matchup in league.scoreboard():\n",
    "    home_team_average = team_scores[matchup.home_team.team_name][-1]\n",
    "    away_team_average = team_scores[matchup.away_team.team_name][-1]\n",
    "    match_up_points.append([matchup.home_team.team_name, home_team_average, number_of_games_team_name_map[matchup.home_team.team_name],\n",
    "                            matchup.away_team.team_name, away_team_average, number_of_games_team_name_map[matchup.away_team.team_name],\n",
    "                           home_team_average - away_team_average])"
   ]
  },
  {
   "cell_type": "code",
   "execution_count": 15,
   "metadata": {},
   "outputs": [
    {
     "data": {
      "text/html": [
       "<table>\n",
       "<tbody>\n",
       "<tr><td>Home Team      </td><td>Estimate Points   </td><td># of Games</td><td>Away Team          </td><td>Estimate Points   </td><td># of Games</td><td>+/-                </td></tr>\n",
       "<tr><td>Tim Liang      </td><td>1404.352976190476 </td><td>42        </td><td>NY Zhanos Diesel   </td><td>1404.197997835498 </td><td>41        </td><td>0.1549783549780841 </td></tr>\n",
       "<tr><td>Team Beyond    </td><td>1266.0794372294372</td><td>40        </td><td>PHI Lower Merion 33</td><td>1405.9815850815853</td><td>42        </td><td>-139.90214785214812</td></tr>\n",
       "<tr><td>Badwomen ``    </td><td>1307.4874542124542</td><td>38        </td><td>CZ ButtKicker      </td><td>1522.0663253413254</td><td>44        </td><td>-214.57887112887124</td></tr>\n",
       "<tr><td>Team Tao       </td><td>917.2076839826839 </td><td>27        </td><td>SEA MoNeYPro       </td><td>1215.0205128205127</td><td>36        </td><td>-297.8128288378289 </td></tr>\n",
       "<tr><td>Shanghai SHARKS</td><td>1526.5596570096568</td><td>44        </td><td>Dragon City Tiedan </td><td>1482.2745129870132</td><td>44        </td><td>44.285144022643635 </td></tr>\n",
       "</tbody>\n",
       "</table>"
      ],
      "text/plain": [
       "<IPython.core.display.HTML object>"
      ]
     },
     "metadata": {},
     "output_type": "display_data"
    }
   ],
   "source": [
    "display(HTML(tabulate.tabulate(match_up_points, tablefmt='html')))"
   ]
  },
  {
   "cell_type": "code",
   "execution_count": 16,
   "metadata": {},
   "outputs": [
    {
     "data": {
      "text/plain": [
       "['PG', 'G', 'G/F', 'UT', 'BE', 'IR']"
      ]
     },
     "execution_count": 16,
     "metadata": {},
     "output_type": "execute_result"
    }
   ],
   "source": [
    "league.get_team_data(MY_TEAM_ID).roster[0].eligibleSlots"
   ]
  },
  {
   "cell_type": "code",
   "execution_count": 17,
   "metadata": {},
   "outputs": [],
   "source": [
    "from espn_api.basketball.line_up_editer import LineUpEditor\n",
    "\n",
    "editor = LineUpEditor(league, MY_TEAM_ID)\n",
    "# editor.bench_all_players(MY_TEAM_ID, 14)"
   ]
  },
  {
   "cell_type": "code",
   "execution_count": 18,
   "metadata": {},
   "outputs": [
    {
     "data": {
      "text/plain": [
       "[Player(Trae Young),\n",
       " Player(Paul George),\n",
       " Player(Pascal Siakam),\n",
       " Player(Jonas Valanciunas),\n",
       " Player(Victor Oladipo),\n",
       " Player(LaMelo Ball),\n",
       " Player(Aaron Gordon),\n",
       " Player(Wendell Carter Jr.),\n",
       " Player(Zach LaVine),\n",
       " Player(Collin Sexton),\n",
       " Player(Blake Griffin),\n",
       " Player(Joe Harris),\n",
       " Player(Danny Green),\n",
       " Player(Luguentz Dort)]"
      ]
     },
     "execution_count": 18,
     "metadata": {},
     "output_type": "execute_result"
    }
   ],
   "source": [
    "editor.game_day_player_getter.get_active_player_list_for_day(30)"
   ]
  },
  {
   "cell_type": "code",
   "execution_count": 20,
   "metadata": {},
   "outputs": [],
   "source": [
    "editor.bench_all_players(33)\n",
    "editor.fill_line_up(33, ignore_injury=True)"
   ]
  },
  {
   "cell_type": "code",
   "execution_count": 22,
   "metadata": {},
   "outputs": [
    {
     "data": {
      "text/plain": [
       "[None,\n",
       " None,\n",
       " None,\n",
       " None,\n",
       " None,\n",
       " None,\n",
       " None,\n",
       " None,\n",
       " None,\n",
       " None,\n",
       " None,\n",
       " None,\n",
       " None,\n",
       " None,\n",
       " None,\n",
       " None]"
      ]
     },
     "execution_count": 22,
     "metadata": {},
     "output_type": "execute_result"
    }
   ],
   "source": [
    "[editor.fill_line_up(period, ignore_injury=True) for period in range(34, 50)]"
   ]
  },
  {
   "cell_type": "code",
   "execution_count": 21,
   "metadata": {},
   "outputs": [
    {
     "ename": "KeyError",
     "evalue": "'name'",
     "output_type": "error",
     "traceback": [
      "\u001b[0;31m---------------------------------------------------------------------------\u001b[0m",
      "\u001b[0;31mKeyError\u001b[0m                                  Traceback (most recent call last)",
      "\u001b[0;32m<ipython-input-21-5cd38c5ac291>\u001b[0m in \u001b[0;36m<module>\u001b[0;34m\u001b[0m\n\u001b[0;32m----> 1\u001b[0;31m \u001b[0;34m[\u001b[0m\u001b[0mprint\u001b[0m\u001b[0;34m(\u001b[0m\u001b[0mentry\u001b[0m\u001b[0;34m[\u001b[0m\u001b[0;34m'playerId'\u001b[0m\u001b[0;34m]\u001b[0m\u001b[0;34m,\u001b[0m \u001b[0mentry\u001b[0m\u001b[0;34m[\u001b[0m\u001b[0;34m'name'\u001b[0m\u001b[0;34m]\u001b[0m\u001b[0;34m)\u001b[0m \u001b[0;32mfor\u001b[0m \u001b[0mentry\u001b[0m \u001b[0;32min\u001b[0m \u001b[0mline_up\u001b[0m\u001b[0;34m[\u001b[0m\u001b[0;34m'teams'\u001b[0m\u001b[0;34m]\u001b[0m\u001b[0;34m[\u001b[0m\u001b[0;36m0\u001b[0m\u001b[0;34m]\u001b[0m\u001b[0;34m[\u001b[0m\u001b[0;34m'roster'\u001b[0m\u001b[0;34m]\u001b[0m\u001b[0;34m[\u001b[0m\u001b[0;34m'entries'\u001b[0m\u001b[0;34m]\u001b[0m\u001b[0;34m]\u001b[0m\u001b[0;34m\u001b[0m\u001b[0;34m\u001b[0m\u001b[0m\n\u001b[0m",
      "\u001b[0;32m<ipython-input-21-5cd38c5ac291>\u001b[0m in \u001b[0;36m<listcomp>\u001b[0;34m(.0)\u001b[0m\n\u001b[0;32m----> 1\u001b[0;31m \u001b[0;34m[\u001b[0m\u001b[0mprint\u001b[0m\u001b[0;34m(\u001b[0m\u001b[0mentry\u001b[0m\u001b[0;34m[\u001b[0m\u001b[0;34m'playerId'\u001b[0m\u001b[0;34m]\u001b[0m\u001b[0;34m,\u001b[0m \u001b[0mentry\u001b[0m\u001b[0;34m[\u001b[0m\u001b[0;34m'name'\u001b[0m\u001b[0;34m]\u001b[0m\u001b[0;34m)\u001b[0m \u001b[0;32mfor\u001b[0m \u001b[0mentry\u001b[0m \u001b[0;32min\u001b[0m \u001b[0mline_up\u001b[0m\u001b[0;34m[\u001b[0m\u001b[0;34m'teams'\u001b[0m\u001b[0;34m]\u001b[0m\u001b[0;34m[\u001b[0m\u001b[0;36m0\u001b[0m\u001b[0;34m]\u001b[0m\u001b[0;34m[\u001b[0m\u001b[0;34m'roster'\u001b[0m\u001b[0;34m]\u001b[0m\u001b[0;34m[\u001b[0m\u001b[0;34m'entries'\u001b[0m\u001b[0;34m]\u001b[0m\u001b[0;34m]\u001b[0m\u001b[0;34m\u001b[0m\u001b[0;34m\u001b[0m\u001b[0m\n\u001b[0m",
      "\u001b[0;31mKeyError\u001b[0m: 'name'"
     ]
    }
   ],
   "source": [
    "[print(entry['playerId'], entry['name']) for entry in line_up['teams'][0]['roster']['entries']]"
   ]
  },
  {
   "cell_type": "code",
   "execution_count": 19,
   "metadata": {},
   "outputs": [
    {
     "name": "stdout",
     "output_type": "stream",
     "text": [
      "4277905 Trae Young\n",
      "4065648 Jayson Tatum\n",
      "4251 Paul George\n",
      "3149673 Pascal Siakam\n",
      "6477 Jonas Valanciunas\n",
      "2527963 Victor Oladipo\n",
      "4432816 LaMelo Ball\n",
      "3064290 Aaron Gordon\n",
      "4277847 Wendell Carter Jr.\n",
      "3064440 Zach LaVine\n",
      "4277811 Collin Sexton\n",
      "3989 Blake Griffin\n",
      "2528794 Joe Harris\n",
      "3988 Danny Green\n",
      "4397020 Luguentz Dort\n"
     ]
    },
    {
     "data": {
      "text/plain": [
       "[None,\n",
       " None,\n",
       " None,\n",
       " None,\n",
       " None,\n",
       " None,\n",
       " None,\n",
       " None,\n",
       " None,\n",
       " None,\n",
       " None,\n",
       " None,\n",
       " None,\n",
       " None,\n",
       " None]"
      ]
     },
     "execution_count": 19,
     "metadata": {},
     "output_type": "execute_result"
    }
   ],
   "source": [
    "from espn_api.basketball.player import Player\n",
    "players = [(Player(entry)) for entry in line_up['teams'][0]['roster']['entries']]\n",
    "[print(player.playerId, player.name) for player in league.get_team_data(MY_TEAM_ID).roster]"
   ]
  },
  {
   "cell_type": "code",
   "execution_count": 23,
   "metadata": {},
   "outputs": [
    {
     "data": {
      "text/plain": [
       "13"
      ]
     },
     "execution_count": 23,
     "metadata": {},
     "output_type": "execute_result"
    }
   ],
   "source": [
    "Player(line_up['teams'][0]['roster']['entries'][1]).lineUpSlotId"
   ]
  },
  {
   "cell_type": "code",
   "execution_count": 18,
   "metadata": {},
   "outputs": [
    {
     "data": {
      "text/plain": [
       "3"
      ]
     },
     "execution_count": 18,
     "metadata": {},
     "output_type": "execute_result"
    }
   ],
   "source": [
    "league.teams[2].roster[0].lineUpSlotId"
   ]
  },
  {
   "cell_type": "code",
   "execution_count": null,
   "metadata": {},
   "outputs": [],
   "source": []
  }
 ],
 "metadata": {
  "kernelspec": {
   "display_name": "Python 3",
   "language": "python",
   "name": "python3"
  },
  "language_info": {
   "codemirror_mode": {
    "name": "ipython",
    "version": 3
   },
   "file_extension": ".py",
   "mimetype": "text/x-python",
   "name": "python",
   "nbconvert_exporter": "python",
   "pygments_lexer": "ipython3",
   "version": "3.9.0+"
  }
 },
 "nbformat": 4,
 "nbformat_minor": 4
}
