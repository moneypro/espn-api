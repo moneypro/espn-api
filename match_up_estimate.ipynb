{
 "cells": [
  {
   "cell_type": "code",
   "execution_count": 1,
   "metadata": {},
   "outputs": [],
   "source": [
    "from espn_api.basketball import League, Matchup, Team"
   ]
  },
  {
   "cell_type": "code",
   "execution_count": 2,
   "metadata": {},
   "outputs": [],
   "source": [
    "espn_s2 = \"AECc%2BKMx5L8l9Rai5PHG%2FT%2Fjtw%2BR%2FZozX391uxpta1J6tD61%2F4NV88%2BVPlCSe0Wjcg0J9jJ0oTJ%2BMkehJLT8MSDfgiubWB9F1n3H%2BnTHWc9OTkzM2ceQFGPiA%2B9AF4yQzt0I3%2FdCgk%2BdQLbgybhS6y1yRS9NIDyfXMSgcqFqRbn5F7zBTzwu9A%2BD2Pi6g6KMR29PbmNbtxSrCJkfbF%2BaZtrpqDbHBZhLyfqOAhQIDx0q1iD0u1DkhxVNoRnxx%2FmEvS%2FHEJZWmfvZM%2F0IAHxPrfVx\"\n",
    "swid=\"{3C4A75B6-F84B-48AE-8A75-B6F84B48AE47}\""
   ]
  },
  {
   "cell_type": "code",
   "execution_count": 3,
   "metadata": {},
   "outputs": [
    {
     "name": "stdout",
     "output_type": "stream",
     "text": [
      "DAY_TO_DAY\n",
      "DAY_TO_DAY\n",
      "DAY_TO_DAY\n",
      "OUT\n",
      "DAY_TO_DAY\n",
      "DAY_TO_DAY\n",
      "DAY_TO_DAY\n",
      "DAY_TO_DAY\n",
      "OUT\n",
      "DAY_TO_DAY\n",
      "OUT\n",
      "OUT\n",
      "DAY_TO_DAY\n",
      "DAY_TO_DAY\n",
      "OUT\n",
      "DAY_TO_DAY\n",
      "DAY_TO_DAY\n",
      "OUT\n",
      "OUT\n",
      "OUT\n",
      "DAY_TO_DAY\n"
     ]
    }
   ],
   "source": [
    "league = League(league_id=30695, year=2021, espn_s2=espn_s2, swid=swid)"
   ]
  },
  {
   "cell_type": "code",
   "execution_count": 4,
   "metadata": {},
   "outputs": [],
   "source": [
    "MY_TEAM_ID = 2\n",
    "schedule = league.get_team_data(MY_TEAM_ID).schedule"
   ]
  },
  {
   "cell_type": "code",
   "execution_count": 5,
   "metadata": {},
   "outputs": [
    {
     "data": {
      "text/plain": [
       "[Activity((Team(Tim Liang),FA ADDED,Paul Millsap) (Team(Tim Liang),DROPPED,Malik Beasley)),\n",
       " Activity((Team(PHI Lower Merion 33),FA ADDED,Naz Reid) (Team(PHI Lower Merion 33),DROPPED,Jae Crowder)),\n",
       " Activity((Team(NY Zhanos Diesel),DROPPED,Hassan Whiteside)),\n",
       " Activity((Team(Team Tao),FA ADDED,De'Andre Hunter)),\n",
       " Activity((Team(PHI Lower Merion 33),FA ADDED,Kyle Anderson) (Team(PHI Lower Merion 33),DROPPED,Shake Milton)),\n",
       " Activity((Team(Tim Liang),DROPPED,Derrick Rose) (Team(Tim Liang),FA ADDED,DeAndre Jordan)),\n",
       " Activity((Team(Shanghai SHARKS),DROPPED,Seth Curry) (Team(Shanghai SHARKS),FA ADDED,Luguentz Dort)),\n",
       " Activity((Team(Team Beyond),DROPPED,Kevin Love) (Team(Team Beyond),FA ADDED,Dillon Brooks)),\n",
       " Activity((Team(Shanghai SHARKS),WAIVER ADDED,Nicolas Batum) (Team(Shanghai SHARKS),DROPPED,Isaac Okoro)),\n",
       " Activity((Team(Badwomen ``),DROPPED,Joe Harris) (Team(Badwomen ``),WAIVER ADDED,Andrew Wiggins)),\n",
       " Activity((Team(SEA MoNeYPro),FA ADDED,Darius Bazley) (Team(SEA MoNeYPro),DROPPED,Josh Jackson)),\n",
       " Activity((Team(Team Beyond),FA ADDED,Kevin Huerter) (Team(Team Beyond),DROPPED,Otto Porter Jr.)),\n",
       " Activity((Team(CZ ButtKicker),FA ADDED,Chris Boucher) (Team(CZ ButtKicker),DROPPED,Paul Millsap)),\n",
       " Activity((Team(Dragon City Tiedan ),DROPPED,Brandon Clarke) (Team(Dragon City Tiedan ),FA ADDED,Duncan Robinson)),\n",
       " Activity((Team(NY Zhanos Diesel),FA ADDED,Enes Kanter)),\n",
       " Activity((Team(Shanghai SHARKS),FA ADDED,Seth Curry) (Team(Shanghai SHARKS),DROPPED,Bogdan Bogdanovic)),\n",
       " Activity((Team(PHI Lower Merion 33),FA ADDED,Jae Crowder) (Team(PHI Lower Merion 33),DROPPED,JJ Redick)),\n",
       " Activity((Team(PHI Lower Merion 33),FA ADDED,Terrence Ross) (Team(PHI Lower Merion 33),DROPPED,Brook Lopez)),\n",
       " Activity((Team(CZ ButtKicker),DROPPED,Patrick Beverley) (Team(CZ ButtKicker),FA ADDED,Miles Bridges)),\n",
       " Activity((Team(Team Beyond),DROPPED,Andrew Wiggins) (Team(Team Beyond),FA ADDED,Cam Reddish)),\n",
       " Activity((Team(Shanghai SHARKS),FA ADDED,Patrick Williams) (Team(Shanghai SHARKS),DROPPED,Obi Toppin)),\n",
       " Activity((Team(Tim Liang),FA ADDED,Malik Beasley) (Team(Tim Liang),DROPPED,DeAndre Jordan)),\n",
       " Activity((Team(Shanghai SHARKS),DROPPED,Jeff Teague) (Team(Shanghai SHARKS),FA ADDED,Alec Burks)),\n",
       " Activity((Team(Team Beyond),FA ADDED,Lonnie Walker IV) (Team(Team Beyond),DROPPED,Dorian Finney-Smith)),\n",
       " Activity((Team(NY Zhanos Diesel),DROPPED,Gary Harris) (Team(NY Zhanos Diesel),FA ADDED,Harrison Barnes))]"
      ]
     },
     "execution_count": 5,
     "metadata": {},
     "output_type": "execute_result"
    }
   ],
   "source": [
    "league.recent_activity()"
   ]
  },
  {
   "cell_type": "code",
   "execution_count": 6,
   "metadata": {},
   "outputs": [],
   "source": [
    "from activity.myUtil import get_opponent_team, get_my_team"
   ]
  },
  {
   "cell_type": "code",
   "execution_count": 7,
   "metadata": {},
   "outputs": [],
   "source": [
    "opponent_roster = get_opponent_team(schedule[1], MY_TEAM_ID).roster"
   ]
  },
  {
   "cell_type": "code",
   "execution_count": 8,
   "metadata": {},
   "outputs": [
    {
     "data": {
      "text/plain": [
       "'BKN'"
      ]
     },
     "execution_count": 8,
     "metadata": {},
     "output_type": "execute_result"
    }
   ],
   "source": [
    "(opponent_roster[-2]).proTeam"
   ]
  },
  {
   "cell_type": "code",
   "execution_count": 9,
   "metadata": {},
   "outputs": [],
   "source": [
    "from espn_api.basketball.week import Week\n",
    "from espn_api.basketball.roster_week_predictor import RosterWeekPredictor"
   ]
  },
  {
   "cell_type": "code",
   "execution_count": 10,
   "metadata": {},
   "outputs": [],
   "source": [
    "currWeek = Week(league, 2)"
   ]
  },
  {
   "cell_type": "code",
   "execution_count": 11,
   "metadata": {},
   "outputs": [],
   "source": [
    "predicted_points_team_name_map = {}\n",
    "number_of_games_team_name_map = {}\n",
    "for team in league.teams:\n",
    "    predictor = RosterWeekPredictor(team.roster, currWeek)\n",
    "    predicted_points_team_name_map[team.team_name] = predictor.predict()\n",
    "    number_of_games_team_name_map[team.team_name] = predictor.get_total_number_of_games()"
   ]
  },
  {
   "cell_type": "code",
   "execution_count": 12,
   "metadata": {},
   "outputs": [],
   "source": [
    "def get_tuple_average(tup):\n",
    "    return (tup[0] + tup[1]) / 2"
   ]
  },
  {
   "cell_type": "code",
   "execution_count": 13,
   "metadata": {},
   "outputs": [],
   "source": [
    "team_scores = {}\n",
    "for team in league.teams:\n",
    "    predicted_points = predicted_points_team_name_map[team.team_name]\n",
    "    team_scores[team.team_name] = predicted_points[0], predicted_points[1], get_tuple_average(predicted_points)"
   ]
  },
  {
   "cell_type": "code",
   "execution_count": 14,
   "metadata": {},
   "outputs": [],
   "source": [
    "table_output = []\n",
    "for team_name, scores in team_scores.items():\n",
    "    lo, hi, avg = scores\n",
    "    table_output.append((team_name, number_of_games_team_name_map[team_name], lo, hi, avg))\n",
    "table_output.sort(reverse=True, key=lambda x: x[-1])"
   ]
  },
  {
   "cell_type": "code",
   "execution_count": 15,
   "metadata": {},
   "outputs": [
    {
     "data": {
      "text/html": [
       "<table>\n",
       "<tbody>\n",
       "<tr><td>Team Name          </td><td># of games</td><td>Low               </td><td>High              </td><td>Avg               </td></tr>\n",
       "<tr><td>SEA MoNeYPro       </td><td>40        </td><td>1167.859164521359 </td><td>1585.6127840909091</td><td>1376.735974306134 </td></tr>\n",
       "<tr><td>CZ ButtKicker      </td><td>39        </td><td>1043.8703943133864</td><td>1589.61124324877  </td><td>1316.7408187810784</td></tr>\n",
       "<tr><td>Badwomen ``        </td><td>38        </td><td>1111.3649667931688</td><td>1453.8705893770389</td><td>1282.617778085104 </td></tr>\n",
       "<tr><td>Tim Liang          </td><td>39        </td><td>986.9339795788381 </td><td>1452.4959392708683</td><td>1219.7149594248533</td></tr>\n",
       "<tr><td>Dragon City Tiedan </td><td>38        </td><td>1044.8617239816444</td><td>1351.55001667794  </td><td>1198.205870329792 </td></tr>\n",
       "<tr><td>Team Tao           </td><td>37        </td><td>993.8530857616679 </td><td>1364.5230238295462</td><td>1179.188054795607 </td></tr>\n",
       "<tr><td>Team Beyond        </td><td>39        </td><td>1010.0213813607281</td><td>1321.4089290584186</td><td>1165.7151552095734</td></tr>\n",
       "<tr><td>PHI Lower Merion 33</td><td>31        </td><td>887.5007137916673 </td><td>1243.0014652014652</td><td>1065.2510894965662</td></tr>\n",
       "<tr><td>Shanghai SHARKS    </td><td>32        </td><td>787.9530948495377 </td><td>1171.4950320512821</td><td>979.7240634504099 </td></tr>\n",
       "<tr><td>NY Zhanos Diesel   </td><td>30        </td><td>879.3939959189418 </td><td>1065.2972276094033</td><td>972.3456117641725 </td></tr>\n",
       "</tbody>\n",
       "</table>"
      ],
      "text/plain": [
       "<IPython.core.display.HTML object>"
      ]
     },
     "metadata": {},
     "output_type": "display_data"
    }
   ],
   "source": [
    "from IPython.display import HTML, display\n",
    "import tabulate\n",
    "table_output.insert(0, (\"Team Name\", \"# of games\", \"Low\", \"High\", \"Avg\"))\n",
    "display(HTML(tabulate.tabulate(table_output, tablefmt='html')))"
   ]
  },
  {
   "cell_type": "code",
   "execution_count": 16,
   "metadata": {},
   "outputs": [],
   "source": [
    "match_up_points = []\n",
    "match_up_points.append([\"Home Team\", \"Estimate Points\", \"# of Games\", \"Away Team\", \"Estimate Points\", \"# of Games\", \"+/-\"])\n",
    "for matchup in league.scoreboard():\n",
    "    home_team_average = team_scores[matchup.home_team.team_name][-1]\n",
    "    away_team_average = team_scores[matchup.away_team.team_name][-1]\n",
    "    match_up_points.append([matchup.home_team.team_name, home_team_average, number_of_games_team_name_map[matchup.home_team.team_name],\n",
    "                            matchup.away_team.team_name, away_team_average, number_of_games_team_name_map[matchup.away_team.team_name],\n",
    "                           home_team_average - away_team_average])"
   ]
  },
  {
   "cell_type": "code",
   "execution_count": 17,
   "metadata": {},
   "outputs": [
    {
     "data": {
      "text/html": [
       "<table>\n",
       "<tbody>\n",
       "<tr><td>Home Team      </td><td>Estimate Points   </td><td># of Games</td><td>Away Team          </td><td>Estimate Points   </td><td># of Games</td><td>+/-               </td></tr>\n",
       "<tr><td>SEA MoNeYPro   </td><td>1376.735974306134 </td><td>40        </td><td>Dragon City Tiedan </td><td>1198.205870329792 </td><td>38        </td><td>178.53010397634193</td></tr>\n",
       "<tr><td>Team Tao       </td><td>1179.188054795607 </td><td>37        </td><td>PHI Lower Merion 33</td><td>1065.2510894965662</td><td>31        </td><td>113.93696529904082</td></tr>\n",
       "<tr><td>Shanghai SHARKS</td><td>979.7240634504099 </td><td>32        </td><td>CZ ButtKicker      </td><td>1316.7408187810784</td><td>39        </td><td>-337.0167553306685</td></tr>\n",
       "<tr><td>Team Beyond    </td><td>1165.7151552095734</td><td>39        </td><td>Tim Liang          </td><td>1219.7149594248533</td><td>39        </td><td>-53.99980421527994</td></tr>\n",
       "<tr><td>Badwomen ``    </td><td>1282.617778085104 </td><td>38        </td><td>NY Zhanos Diesel   </td><td>972.3456117641725 </td><td>30        </td><td>310.27216632093143</td></tr>\n",
       "</tbody>\n",
       "</table>"
      ],
      "text/plain": [
       "<IPython.core.display.HTML object>"
      ]
     },
     "metadata": {},
     "output_type": "display_data"
    }
   ],
   "source": [
    "display(HTML(tabulate.tabulate(match_up_points, tablefmt='html')))"
   ]
  },
  {
   "cell_type": "code",
   "execution_count": 18,
   "metadata": {},
   "outputs": [
    {
     "data": {
      "text/plain": [
       "'ACTIVE'"
      ]
     },
     "execution_count": 18,
     "metadata": {},
     "output_type": "execute_result"
    }
   ],
   "source": [
    "opponent_roster[0].injuryStatus"
   ]
  },
  {
   "cell_type": "code",
   "execution_count": 19,
   "metadata": {},
   "outputs": [
    {
     "data": {
      "text/plain": [
       "{12: (13, 1608692400000),\n",
       " 13: (12, 1608692400000),\n",
       " 17: (9, 1608681600000),\n",
       " 9: (17, 1608681600000)}"
      ]
     },
     "execution_count": 19,
     "metadata": {},
     "output_type": "execute_result"
    }
   ],
   "source": [
    "league._get_pro_schedule(1)"
   ]
  },
  {
   "cell_type": "code",
   "execution_count": 24,
   "metadata": {},
   "outputs": [
    {
     "data": {
      "text/plain": [
       "[['LAL', 'BKN', 'POR', 'OKC', 'UTA', 'MEM', 'ATL', 'DEN', 'DET', 'HOU'],\n",
       " ['IND',\n",
       "  'LAC',\n",
       "  'MIA',\n",
       "  'MIL',\n",
       "  'MIN',\n",
       "  'NYK',\n",
       "  'ORL',\n",
       "  'PHL',\n",
       "  'PHO',\n",
       "  'SAC',\n",
       "  'OKC',\n",
       "  'WAS',\n",
       "  'TOR',\n",
       "  'BOS',\n",
       "  'NOP',\n",
       "  'CHI',\n",
       "  'CLE',\n",
       "  'DEN',\n",
       "  'DET',\n",
       "  'GSW'],\n",
       " ['LAC',\n",
       "  'LAL',\n",
       "  'MIA',\n",
       "  'MIL',\n",
       "  'BKN',\n",
       "  'POR',\n",
       "  'SAS',\n",
       "  'MEM',\n",
       "  'CHA',\n",
       "  'ATL',\n",
       "  'BOS',\n",
       "  'DAL'],\n",
       " ['IND',\n",
       "  'NYK',\n",
       "  'ORL',\n",
       "  'PHL',\n",
       "  'PHO',\n",
       "  'SAC',\n",
       "  'OKC',\n",
       "  'UTA',\n",
       "  'WAS',\n",
       "  'TOR',\n",
       "  'NOP',\n",
       "  'CHI',\n",
       "  'CLE',\n",
       "  'HOU'],\n",
       " ['LAC',\n",
       "  'LAL',\n",
       "  'MIA',\n",
       "  'MIL',\n",
       "  'MIN',\n",
       "  'BKN',\n",
       "  'PHO',\n",
       "  'POR',\n",
       "  'SAS',\n",
       "  'UTA',\n",
       "  'WAS',\n",
       "  'MEM',\n",
       "  'CHA',\n",
       "  'ATL',\n",
       "  'BOS',\n",
       "  'CHI',\n",
       "  'DAL',\n",
       "  'DEN',\n",
       "  'DET',\n",
       "  'GSW'],\n",
       " ['IND',\n",
       "  'NYK',\n",
       "  'ORL',\n",
       "  'PHL',\n",
       "  'SAC',\n",
       "  'OKC',\n",
       "  'TOR',\n",
       "  'CHA',\n",
       "  'ATL',\n",
       "  'NOP',\n",
       "  'CLE',\n",
       "  'HOU'],\n",
       " ['LAC',\n",
       "  'LAL',\n",
       "  'MIN',\n",
       "  'BKN',\n",
       "  'PHO',\n",
       "  'POR',\n",
       "  'SAS',\n",
       "  'UTA',\n",
       "  'WAS',\n",
       "  'MEM',\n",
       "  'BOS',\n",
       "  'CHI',\n",
       "  'DAL',\n",
       "  'DEN',\n",
       "  'DET',\n",
       "  'GSW']]"
      ]
     },
     "execution_count": 24,
     "metadata": {},
     "output_type": "execute_result"
    }
   ],
   "source": [
    "currWeek.team_game_list"
   ]
  },
  {
   "cell_type": "code",
   "execution_count": 27,
   "metadata": {},
   "outputs": [
    {
     "data": {
      "text/plain": [
       "(1, 6)"
      ]
     },
     "execution_count": 27,
     "metadata": {},
     "output_type": "execute_result"
    }
   ],
   "source": [
    "currWeek=Week(league, 1)\n",
    "currWeek.scoring_period"
   ]
  },
  {
   "cell_type": "code",
   "execution_count": 23,
   "metadata": {},
   "outputs": [],
   "source": [
    "from espn_api.basketball.roster_week_predictor import RosterWeekPredictor"
   ]
  },
  {
   "cell_type": "code",
   "execution_count": 24,
   "metadata": {},
   "outputs": [],
   "source": [
    "predictor2 = RosterWeekPredictor(my_roster, currWeek)"
   ]
  },
  {
   "cell_type": "code",
   "execution_count": 25,
   "metadata": {},
   "outputs": [
    {
     "data": {
      "text/plain": [
       "(1677.7853361518614, 0)"
      ]
     },
     "execution_count": 25,
     "metadata": {},
     "output_type": "execute_result"
    }
   ],
   "source": [
    "predictor2.predict()"
   ]
  },
  {
   "cell_type": "code",
   "execution_count": 23,
   "metadata": {},
   "outputs": [
    {
     "data": {
      "text/plain": [
       "[3, 2, 1]"
      ]
     },
     "execution_count": 23,
     "metadata": {},
     "output_type": "execute_result"
    }
   ],
   "source": [
    "a = [1,2,3]\n",
    "a.sort(reverse=True)\n",
    "a"
   ]
  },
  {
   "cell_type": "code",
   "execution_count": null,
   "metadata": {},
   "outputs": [],
   "source": []
  }
 ],
 "metadata": {
  "kernelspec": {
   "display_name": "Python 3",
   "language": "python",
   "name": "python3"
  },
  "language_info": {
   "codemirror_mode": {
    "name": "ipython",
    "version": 3
   },
   "file_extension": ".py",
   "mimetype": "text/x-python",
   "name": "python",
   "nbconvert_exporter": "python",
   "pygments_lexer": "ipython3",
   "version": "3.9.0+"
  }
 },
 "nbformat": 4,
 "nbformat_minor": 4
}
