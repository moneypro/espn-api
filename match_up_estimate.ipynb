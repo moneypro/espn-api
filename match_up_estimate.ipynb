{
 "cells": [
  {
   "cell_type": "code",
   "execution_count": 9,
   "metadata": {},
   "outputs": [],
   "source": [
    "from espn_api.basketball import League, Matchup, Team"
   ]
  },
  {
   "cell_type": "code",
   "execution_count": 10,
   "metadata": {},
   "outputs": [],
   "source": [
    "espn_s2 = \"AECc%2BKMx5L8l9Rai5PHG%2FT%2Fjtw%2BR%2FZozX391uxpta1J6tD61%2F4NV88%2BVPlCSe0Wjcg0J9jJ0oTJ%2BMkehJLT8MSDfgiubWB9F1n3H%2BnTHWc9OTkzM2ceQFGPiA%2B9AF4yQzt0I3%2FdCgk%2BdQLbgybhS6y1yRS9NIDyfXMSgcqFqRbn5F7zBTzwu9A%2BD2Pi6g6KMR29PbmNbtxSrCJkfbF%2BaZtrpqDbHBZhLyfqOAhQIDx0q1iD0u1DkhxVNoRnxx%2FmEvS%2FHEJZWmfvZM%2F0IAHxPrfVx\"\n",
    "swid=\"{3C4A75B6-F84B-48AE-8A75-B6F84B48AE47}\""
   ]
  },
  {
   "cell_type": "code",
   "execution_count": 11,
   "metadata": {},
   "outputs": [],
   "source": [
    "league = League(league_id=30695, year=2021, espn_s2=espn_s2, swid=swid)"
   ]
  },
  {
   "cell_type": "code",
   "execution_count": 12,
   "metadata": {},
   "outputs": [],
   "source": [
    "MY_TEAM_ID = 2\n",
    "schedule = league.get_team_data(MY_TEAM_ID).schedule"
   ]
  },
  {
   "cell_type": "code",
   "execution_count": 13,
   "metadata": {},
   "outputs": [
    {
     "data": {
      "text/plain": [
       "[Activity((Team(Shanghai SHARKS),DROPPED,Spencer Dinwiddie) (Team(Shanghai SHARKS),FA ADDED,Isaac Okoro)),\n",
       " Activity((Team(Shanghai SHARKS),FA ADDED,Larry Nance Jr.)),\n",
       " Activity((Team(Shanghai SHARKS),TRADED,Deandre Ayton) (Team(SEA MoNeYPro),TRADED,Rui Hachimura) (Team(SEA MoNeYPro),TRADED,Khris Middleton) (Team(Shanghai SHARKS),TRADED,Dejounte Murray)),\n",
       " Activity((Team(PHI Lower Merion 33),FA ADDED,Davis Bertans)),\n",
       " Activity((Team(PHI Lower Merion 33),DROPPED,Aron Baynes)),\n",
       " Activity((Team(PHI Lower Merion 33),FA ADDED,Aron Baynes)),\n",
       " Activity((Team(PHI Lower Merion 33),DROPPED,Joe Harris)),\n",
       " Activity((Team(SEA MoNeYPro),DROPPED,Marc Gasol) (Team(SEA MoNeYPro),FA ADDED,Nicolas Batum)),\n",
       " Activity((Team(Team Beyond),FA ADDED,Will Barton) (Team(Team Beyond),DROPPED,Taurean Prince)),\n",
       " Activity((Team(CZ ButtKicker),FA ADDED,Patrick Beverley) (Team(CZ ButtKicker),DROPPED,De'Andre Hunter)),\n",
       " Activity((Team(Team Beyond),FA ADDED,Taurean Prince)),\n",
       " Activity((Team(SEA MoNeYPro),FA ADDED,Marc Gasol)),\n",
       " Activity((Team(PHI Lower Merion 33),FA ADDED,Joe Harris)),\n",
       " Activity((Team(Team Beyond),WAIVER ADDED,Kemba Walker) (Team(Team Beyond),DROPPED,Duncan Robinson)),\n",
       " Activity((Team(NY Zhanos Diesel),FA ADDED,Dillon Brooks) (Team(NY Zhanos Diesel),DROPPED,Harrison Barnes)),\n",
       " Activity((Team(Dragon City Tiedan ),WAIVER ADDED,Cole Anthony) (Team(Dragon City Tiedan ),DROPPED,Kemba Walker))]"
      ]
     },
     "execution_count": 13,
     "metadata": {},
     "output_type": "execute_result"
    }
   ],
   "source": [
    "league.recent_activity()"
   ]
  },
  {
   "cell_type": "code",
   "execution_count": 14,
   "metadata": {},
   "outputs": [],
   "source": [
    "from activity.myUtil import get_opponent_team, get_my_team"
   ]
  },
  {
   "cell_type": "code",
   "execution_count": 15,
   "metadata": {},
   "outputs": [],
   "source": [
    "opponent_roster = get_opponent_team(schedule[0], MY_TEAM_ID).roster"
   ]
  },
  {
   "cell_type": "code",
   "execution_count": 16,
   "metadata": {},
   "outputs": [
    {
     "data": {
      "text/plain": [
       "[Player(Giannis Antetokounmpo),\n",
       " Player(Devin Booker),\n",
       " Player(Jimmy Butler),\n",
       " Player(Jamal Murray),\n",
       " Player(CJ McCollum),\n",
       " Player(Steven Adams),\n",
       " Player(Michael Porter Jr.),\n",
       " Player(Dennis Schroder),\n",
       " Player(Mike Conley),\n",
       " Player(Tyrese Haliburton),\n",
       " Player(Mason Plumlee),\n",
       " Player(Derrick Rose),\n",
       " Player(RJ Barrett),\n",
       " Player(DeAndre Jordan)]"
      ]
     },
     "execution_count": 16,
     "metadata": {},
     "output_type": "execute_result"
    }
   ],
   "source": [
    "opponent_roster"
   ]
  },
  {
   "cell_type": "code",
   "execution_count": 17,
   "metadata": {},
   "outputs": [],
   "source": [
    "from activity.score_predicter import predict, cumulate_number_of_games"
   ]
  },
  {
   "cell_type": "code",
   "execution_count": 18,
   "metadata": {},
   "outputs": [],
   "source": [
    "number_of_games_map = cumulate_number_of_games(1, league)"
   ]
  },
  {
   "cell_type": "code",
   "execution_count": 19,
   "metadata": {},
   "outputs": [
    {
     "data": {
      "text/plain": [
       "(1100.0701226430133, 1242.6163335317165)"
      ]
     },
     "execution_count": 19,
     "metadata": {},
     "output_type": "execute_result"
    }
   ],
   "source": [
    "predict(opponent_roster, number_of_games_map)"
   ]
  },
  {
   "cell_type": "code",
   "execution_count": 20,
   "metadata": {},
   "outputs": [
    {
     "data": {
      "text/plain": [
       "(1180.500690167327, 1334.899662604407)"
      ]
     },
     "execution_count": 20,
     "metadata": {},
     "output_type": "execute_result"
    }
   ],
   "source": [
    "my_roster = get_my_team(schedule[0], MY_TEAM_ID).roster\n",
    "predict(my_roster, number_of_games_map)"
   ]
  },
  {
   "cell_type": "code",
   "execution_count": 21,
   "metadata": {},
   "outputs": [],
   "source": [
    "predicted_points_team_name_map = {}\n",
    "for team in league.teams:\n",
    "    predicted_points_team_name_map[team.team_name] = predict(team.roster, number_of_games_map)"
   ]
  },
  {
   "cell_type": "code",
   "execution_count": 22,
   "metadata": {},
   "outputs": [],
   "source": [
    "def get_tuple_average(tup):\n",
    "    return (tup[0] + tup[1]) / 2"
   ]
  },
  {
   "cell_type": "code",
   "execution_count": 23,
   "metadata": {},
   "outputs": [],
   "source": [
    "table_output = []\n",
    "for team in league.teams:\n",
    "    predicted_points = predicted_points_team_name_map[team.team_name]\n",
    "    table_output.append((team.team_name, predicted_points[0], predicted_points[1], get_tuple_average(predicted_points)))\n",
    "table_output.sort(reverse=True, key=lambda x: x[-1])"
   ]
  },
  {
   "cell_type": "code",
   "execution_count": 24,
   "metadata": {},
   "outputs": [
    {
     "data": {
      "text/html": [
       "<table>\n",
       "<tbody>\n",
       "<tr><td>Team Name          </td><td>Low               </td><td>High              </td><td>Avg               </td></tr>\n",
       "<tr><td>PHI Lower Merion 33</td><td>1410.1773854158382</td><td>1482.748298712264 </td><td>1446.462842064051 </td></tr>\n",
       "<tr><td>Team Beyond        </td><td>1313.3915973541614</td><td>1466.3691659101803</td><td>1389.8803816321708</td></tr>\n",
       "<tr><td>Badwomen ``        </td><td>1295.3500333404713</td><td>1385.1622088867505</td><td>1340.2561211136108</td></tr>\n",
       "<tr><td>NY Zhanos Diesel   </td><td>1248.6800008482837</td><td>1383.8665503695336</td><td>1316.2732756089085</td></tr>\n",
       "<tr><td>Team Tao           </td><td>1247.6748290498388</td><td>1372.5776807053428</td><td>1310.1262548775908</td></tr>\n",
       "<tr><td>Dragon City Tiedan </td><td>1239.459076532539 </td><td>1345.0435120714355</td><td>1292.2512943019874</td></tr>\n",
       "<tr><td>SEA MoNeYPro       </td><td>1180.500690167327 </td><td>1334.899662604407 </td><td>1257.700176385867 </td></tr>\n",
       "<tr><td>Shanghai SHARKS    </td><td>1205.6664446108325</td><td>1301.7358766852499</td><td>1253.7011606480412</td></tr>\n",
       "<tr><td>Tim Liang          </td><td>1100.0701226430133</td><td>1242.6163335317165</td><td>1171.3432280873649</td></tr>\n",
       "<tr><td>CZ ButtKicker      </td><td>1104.743789053202 </td><td>1221.5616610541367</td><td>1163.1527250536692</td></tr>\n",
       "</tbody>\n",
       "</table>"
      ],
      "text/plain": [
       "<IPython.core.display.HTML object>"
      ]
     },
     "metadata": {},
     "output_type": "display_data"
    }
   ],
   "source": [
    "from IPython.display import HTML, display\n",
    "import tabulate\n",
    "table_output.insert(0, (\"Team Name\", \"Low\", \"High\", \"Avg\"))\n",
    "display(HTML(tabulate.tabulate(table_output, tablefmt='html')))"
   ]
  },
  {
   "cell_type": "code",
   "execution_count": 25,
   "metadata": {},
   "outputs": [],
   "source": [
    "match_up_points = []\n",
    "match_up_points.append([\"Home Team\", \"Estimate Points\", \"Away Team\", \"Estimate Points\", \"+/-\"])\n",
    "for matchup in league.scoreboard():\n",
    "    home_team_average = get_tuple_average(predict(matchup.home_team.roster, number_of_games_map))\n",
    "    away_team_average = get_tuple_average(predict(matchup.away_team.roster, number_of_games_map))\n",
    "    match_up_points.append([matchup.home_team.team_name, home_team_average,\n",
    "                            matchup.away_team.team_name, away_team_average,\n",
    "                           home_team_average - away_team_average])"
   ]
  },
  {
   "cell_type": "code",
   "execution_count": 26,
   "metadata": {},
   "outputs": [
    {
     "data": {
      "text/html": [
       "<table>\n",
       "<tbody>\n",
       "<tr><td>Home Team          </td><td>Estimate Points   </td><td>Away Team         </td><td>Estimate Points   </td><td>+/-               </td></tr>\n",
       "<tr><td>PHI Lower Merion 33</td><td>1446.462842064051 </td><td>CZ ButtKicker     </td><td>1163.1527250536692</td><td>283.3101170103819 </td></tr>\n",
       "<tr><td>Tim Liang          </td><td>1171.3432280873649</td><td>SEA MoNeYPro      </td><td>1257.700176385867 </td><td>-86.35694829850218</td></tr>\n",
       "<tr><td>NY Zhanos Diesel   </td><td>1316.2732756089085</td><td>Dragon City Tiedan</td><td>1292.2512943019874</td><td>24.021981306921134</td></tr>\n",
       "<tr><td>Team Beyond        </td><td>1389.8803816321708</td><td>Team Tao          </td><td>1310.1262548775908</td><td>79.75412675458006 </td></tr>\n",
       "<tr><td>Badwomen ``        </td><td>1340.2561211136108</td><td>Shanghai SHARKS   </td><td>1253.7011606480412</td><td>86.5549604655696  </td></tr>\n",
       "</tbody>\n",
       "</table>"
      ],
      "text/plain": [
       "<IPython.core.display.HTML object>"
      ]
     },
     "metadata": {},
     "output_type": "display_data"
    }
   ],
   "source": [
    "display(HTML(tabulate.tabulate(match_up_points, tablefmt='html')))"
   ]
  },
  {
   "cell_type": "code",
   "execution_count": null,
   "metadata": {},
   "outputs": [],
   "source": []
  }
 ],
 "metadata": {
  "kernelspec": {
   "display_name": "Python 3",
   "language": "python",
   "name": "python3"
  },
  "language_info": {
   "codemirror_mode": {
    "name": "ipython",
    "version": 3
   },
   "file_extension": ".py",
   "mimetype": "text/x-python",
   "name": "python",
   "nbconvert_exporter": "python",
   "pygments_lexer": "ipython3",
   "version": "3.9.0+"
  }
 },
 "nbformat": 4,
 "nbformat_minor": 4
}
