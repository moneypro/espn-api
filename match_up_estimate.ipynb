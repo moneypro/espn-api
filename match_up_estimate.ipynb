{
 "cells": [
  {
   "cell_type": "code",
   "execution_count": 1,
   "metadata": {},
   "outputs": [],
   "source": [
    "from espn_api.basketball import League, Matchup, Team\n",
    "from activity.myUtil import get_opponent_team, get_my_team\n",
    "from espn_api.basketball.week import Week\n",
    "from espn_api.basketball.roster_week_predictor import RosterWeekPredictor\n",
    "\n",
    "from IPython.display import HTML, display\n",
    "import tabulate"
   ]
  },
  {
   "cell_type": "code",
   "execution_count": 2,
   "metadata": {},
   "outputs": [],
   "source": [
    "espn_s2 = \"AECc%2BKMx5L8l9Rai5PHG%2FT%2Fjtw%2BR%2FZozX391uxpta1J6tD61%2F4NV88%2BVPlCSe0Wjcg0J9jJ0oTJ%2BMkehJLT8MSDfgiubWB9F1n3H%2BnTHWc9OTkzM2ceQFGPiA%2B9AF4yQzt0I3%2FdCgk%2BdQLbgybhS6y1yRS9NIDyfXMSgcqFqRbn5F7zBTzwu9A%2BD2Pi6g6KMR29PbmNbtxSrCJkfbF%2BaZtrpqDbHBZhLyfqOAhQIDx0q1iD0u1DkhxVNoRnxx%2FmEvS%2FHEJZWmfvZM%2F0IAHxPrfVx\"\n",
    "swid=\"{3C4A75B6-F84B-48AE-8A75-B6F84B48AE47}\""
   ]
  },
  {
   "cell_type": "code",
   "execution_count": 3,
   "metadata": {},
   "outputs": [],
   "source": [
    "league = League(league_id=30695, year=2021, espn_s2=espn_s2, swid=swid)"
   ]
  },
  {
   "cell_type": "code",
   "execution_count": 4,
   "metadata": {},
   "outputs": [
    {
     "data": {
      "text/html": [
       "<table>\n",
       "<tbody>\n",
       "<tr><td>Team Name          </td><td>Team Id</td></tr>\n",
       "<tr><td>CZ ButtKicker      </td><td>1      </td></tr>\n",
       "<tr><td>SEA MoNeYPro       </td><td>2      </td></tr>\n",
       "<tr><td>NY Zhanos Diesel   </td><td>4      </td></tr>\n",
       "<tr><td>Shanghai SHARKS    </td><td>5      </td></tr>\n",
       "<tr><td>Team Tao           </td><td>7      </td></tr>\n",
       "<tr><td>Team Beyond        </td><td>9      </td></tr>\n",
       "<tr><td>PHI Lower Merion 33</td><td>11     </td></tr>\n",
       "<tr><td>Badwomen ``        </td><td>14     </td></tr>\n",
       "<tr><td>Dragon City Tiedan </td><td>15     </td></tr>\n",
       "<tr><td>Tim Liang          </td><td>16     </td></tr>\n",
       "</tbody>\n",
       "</table>"
      ],
      "text/plain": [
       "<IPython.core.display.HTML object>"
      ]
     },
     "metadata": {},
     "output_type": "display_data"
    }
   ],
   "source": [
    "table_output = [(\"Team Name\", \"Team Id\")]\n",
    "[table_output.append((team.team_name, team.team_id)) for team in league.teams]\n",
    "display(HTML(tabulate.tabulate(table_output, tablefmt='html')))"
   ]
  },
  {
   "cell_type": "markdown",
   "metadata": {},
   "source": [
    "Put your **team id** into the variable below:"
   ]
  },
  {
   "cell_type": "code",
   "execution_count": 10,
   "metadata": {},
   "outputs": [],
   "source": [
    "MY_TEAM_ID = 2"
   ]
  },
  {
   "cell_type": "code",
   "execution_count": 11,
   "metadata": {},
   "outputs": [
    {
     "data": {
      "text/html": [
       "<table>\n",
       "<tbody>\n",
       "<tr><td>Week Id</td><td>Opponent Team Name </td></tr>\n",
       "<tr><td>1      </td><td>Tim Liang          </td></tr>\n",
       "<tr><td>2      </td><td>Dragon City Tiedan </td></tr>\n",
       "<tr><td>3      </td><td>Team Beyond        </td></tr>\n",
       "<tr><td>4      </td><td>PHI Lower Merion 33</td></tr>\n",
       "<tr><td>5      </td><td>Team Tao           </td></tr>\n",
       "<tr><td>6      </td><td>CZ ButtKicker      </td></tr>\n",
       "<tr><td>7      </td><td>NY Zhanos Diesel   </td></tr>\n",
       "<tr><td>8      </td><td>Badwomen ``        </td></tr>\n",
       "<tr><td>9      </td><td>Team Tao           </td></tr>\n",
       "<tr><td>10     </td><td>Tim Liang          </td></tr>\n",
       "<tr><td>11     </td><td>Shanghai SHARKS    </td></tr>\n",
       "<tr><td>12     </td><td>Team Beyond        </td></tr>\n",
       "<tr><td>13     </td><td>PHI Lower Merion 33</td></tr>\n",
       "<tr><td>14     </td><td>Dragon City Tiedan </td></tr>\n",
       "<tr><td>15     </td><td>CZ ButtKicker      </td></tr>\n",
       "<tr><td>16     </td><td>NY Zhanos Diesel   </td></tr>\n",
       "<tr><td>17     </td><td>Badwomen ``        </td></tr>\n",
       "</tbody>\n",
       "</table>"
      ],
      "text/plain": [
       "<IPython.core.display.HTML object>"
      ]
     },
     "metadata": {},
     "output_type": "display_data"
    }
   ],
   "source": [
    "schedule = league.get_team_data(MY_TEAM_ID).schedule\n",
    "table_output = [(\"Week Id\", \"Opponent Team Name\")]\n",
    "[table_output.append((week_id + 1, get_opponent_team(matchup, MY_TEAM_ID).team_name)) for week_id, matchup in enumerate(schedule)]\n",
    "display(HTML(tabulate.tabulate(table_output, tablefmt='html')))"
   ]
  },
  {
   "cell_type": "code",
   "execution_count": 7,
   "metadata": {},
   "outputs": [],
   "source": [
    "WEEK_ID = 3"
   ]
  },
  {
   "cell_type": "code",
   "execution_count": 8,
   "metadata": {},
   "outputs": [],
   "source": [
    "currWeek = Week(league, WEEK_ID)"
   ]
  },
  {
   "cell_type": "code",
   "execution_count": 9,
   "metadata": {},
   "outputs": [],
   "source": [
    "predicted_points_team_name_map = {}\n",
    "number_of_games_team_name_map = {}\n",
    "for team in league.teams:\n",
    "    predictor = RosterWeekPredictor(team.roster, currWeek)\n",
    "    predicted_points_team_name_map[team.team_name] = predictor.predict()\n",
    "    number_of_games_team_name_map[team.team_name] = predictor.get_total_number_of_games()"
   ]
  },
  {
   "cell_type": "code",
   "execution_count": 10,
   "metadata": {},
   "outputs": [],
   "source": [
    "def get_tuple_average(tup):\n",
    "    return (tup[0] + tup[1]) / 2"
   ]
  },
  {
   "cell_type": "code",
   "execution_count": 11,
   "metadata": {},
   "outputs": [],
   "source": [
    "team_scores = {}\n",
    "for team in league.teams:\n",
    "    predicted_points = predicted_points_team_name_map[team.team_name]\n",
    "    team_scores[team.team_name] = predicted_points[0], predicted_points[1], get_tuple_average(predicted_points)"
   ]
  },
  {
   "cell_type": "code",
   "execution_count": 12,
   "metadata": {},
   "outputs": [],
   "source": [
    "table_output = []\n",
    "for team_name, scores in team_scores.items():\n",
    "    lo, hi, avg = scores\n",
    "    table_output.append((team_name, number_of_games_team_name_map[team_name], lo, hi, avg))\n",
    "table_output.sort(reverse=True, key=lambda x: x[-1])"
   ]
  },
  {
   "cell_type": "code",
   "execution_count": 13,
   "metadata": {},
   "outputs": [
    {
     "data": {
      "text/html": [
       "<table>\n",
       "<tbody>\n",
       "<tr><td>Team Name          </td><td># of games</td><td>Low               </td><td>High              </td><td>Avg               </td></tr>\n",
       "<tr><td>Shanghai SHARKS    </td><td>41        </td><td>1383.1045454545454</td><td>1569.4229437229437</td><td>1476.2637445887444</td></tr>\n",
       "<tr><td>Team Tao           </td><td>42        </td><td>1343.5195887445889</td><td>1594.5616883116882</td><td>1469.0406385281385</td></tr>\n",
       "<tr><td>SEA MoNeYPro       </td><td>42        </td><td>1288.8454545454547</td><td>1524.9333333333334</td><td>1406.889393939394 </td></tr>\n",
       "<tr><td>Tim Liang          </td><td>42        </td><td>1231.3232323232323</td><td>1457.794155844156 </td><td>1344.5586940836943</td></tr>\n",
       "<tr><td>NY Zhanos Diesel   </td><td>37        </td><td>1152.5963203463205</td><td>1314.8051948051948</td><td>1233.7007575757575</td></tr>\n",
       "<tr><td>Team Beyond        </td><td>40        </td><td>1122.4525974025973</td><td>1319.7285714285715</td><td>1221.0905844155845</td></tr>\n",
       "<tr><td>Badwomen ``        </td><td>35        </td><td>1129.2818181818182</td><td>1277.0343073593074</td><td>1203.1580627705628</td></tr>\n",
       "<tr><td>Dragon City Tiedan </td><td>34        </td><td>925.9707792207793 </td><td>1144.780303030303 </td><td>1035.375541125541 </td></tr>\n",
       "<tr><td>CZ ButtKicker      </td><td>36        </td><td>915.1944444444445 </td><td>1144.1704545454547</td><td>1029.6824494949497</td></tr>\n",
       "<tr><td>PHI Lower Merion 33</td><td>32        </td><td>913.8787878787878 </td><td>1100.3280303030303</td><td>1007.103409090909 </td></tr>\n",
       "</tbody>\n",
       "</table>"
      ],
      "text/plain": [
       "<IPython.core.display.HTML object>"
      ]
     },
     "metadata": {},
     "output_type": "display_data"
    }
   ],
   "source": [
    "table_output.insert(0, (\"Team Name\", \"# of games\", \"Low\", \"High\", \"Avg\"))\n",
    "display(HTML(tabulate.tabulate(table_output, tablefmt='html')))"
   ]
  },
  {
   "cell_type": "code",
   "execution_count": 14,
   "metadata": {},
   "outputs": [],
   "source": [
    "match_up_points = []\n",
    "match_up_points.append([\"Home Team\", \"Estimate Points\", \"# of Games\", \"Away Team\", \"Estimate Points\", \"# of Games\", \"+/-\"])\n",
    "for matchup in league.scoreboard():\n",
    "    home_team_average = team_scores[matchup.home_team.team_name][-1]\n",
    "    away_team_average = team_scores[matchup.away_team.team_name][-1]\n",
    "    match_up_points.append([matchup.home_team.team_name, home_team_average, number_of_games_team_name_map[matchup.home_team.team_name],\n",
    "                            matchup.away_team.team_name, away_team_average, number_of_games_team_name_map[matchup.away_team.team_name],\n",
    "                           home_team_average - away_team_average])"
   ]
  },
  {
   "cell_type": "code",
   "execution_count": 15,
   "metadata": {},
   "outputs": [
    {
     "data": {
      "text/html": [
       "<table>\n",
       "<tbody>\n",
       "<tr><td>Home Team          </td><td>Estimate Points   </td><td># of Games</td><td>Away Team         </td><td>Estimate Points   </td><td># of Games</td><td>+/-                </td></tr>\n",
       "<tr><td>Team Beyond        </td><td>1221.0905844155845</td><td>40        </td><td>Badwomen ``       </td><td>1203.1580627705628</td><td>35        </td><td>17.93252164502178  </td></tr>\n",
       "<tr><td>Tim Liang          </td><td>1344.5586940836943</td><td>42        </td><td>Team Tao          </td><td>1469.0406385281385</td><td>42        </td><td>-124.48194444444425</td></tr>\n",
       "<tr><td>NY Zhanos Diesel   </td><td>1233.7007575757575</td><td>37        </td><td>Shanghai SHARKS   </td><td>1476.2637445887444</td><td>41        </td><td>-242.56298701298692</td></tr>\n",
       "<tr><td>PHI Lower Merion 33</td><td>1007.103409090909 </td><td>32        </td><td>SEA MoNeYPro      </td><td>1406.889393939394 </td><td>42        </td><td>-399.785984848485  </td></tr>\n",
       "<tr><td>CZ ButtKicker      </td><td>1029.6824494949497</td><td>36        </td><td>Dragon City Tiedan</td><td>1035.375541125541 </td><td>34        </td><td>-5.693091630591425 </td></tr>\n",
       "</tbody>\n",
       "</table>"
      ],
      "text/plain": [
       "<IPython.core.display.HTML object>"
      ]
     },
     "metadata": {},
     "output_type": "display_data"
    }
   ],
   "source": [
    "display(HTML(tabulate.tabulate(match_up_points, tablefmt='html')))"
   ]
  },
  {
   "cell_type": "code",
   "execution_count": 16,
   "metadata": {},
   "outputs": [
    {
     "data": {
      "text/plain": [
       "['PG', 'G', 'G/F', 'UT', 'BE', 'IR']"
      ]
     },
     "execution_count": 16,
     "metadata": {},
     "output_type": "execute_result"
    }
   ],
   "source": [
    "league.get_team_data(MY_TEAM_ID).roster[0].eligibleSlots"
   ]
  },
  {
   "cell_type": "code",
   "execution_count": 7,
   "metadata": {},
   "outputs": [],
   "source": [
    "from espn_api.basketball.line_up_editer import LineUpEditor\n",
    "\n",
    "editor = LineUpEditor(league, MY_TEAM_ID)\n",
    "# editor.bench_all_players(MY_TEAM_ID, 14)"
   ]
  },
  {
   "cell_type": "code",
   "execution_count": 8,
   "metadata": {},
   "outputs": [
    {
     "data": {
      "text/plain": [
       "[(4277905, 0),\n",
       " (3149673, 3),\n",
       " (6477, 4),\n",
       " (2527963, 1),\n",
       " (4065648, 2),\n",
       " (4251, 11),\n",
       " (4432816, 11),\n",
       " (3064290, 11),\n",
       " (4277847, 11),\n",
       " (3064440, 11)]"
      ]
     },
     "execution_count": 8,
     "metadata": {},
     "output_type": "execute_result"
    }
   ],
   "source": [
    "editor.get_optimized_line_up(league.get_team_data(MY_TEAM_ID).roster)"
   ]
  },
  {
   "cell_type": "code",
   "execution_count": 9,
   "metadata": {},
   "outputs": [
    {
     "name": "stdout",
     "output_type": "stream",
     "text": [
      "Failed to bench player  Player(Jayson Tatum)\n",
      "Failed to change line up for player  4065648\n"
     ]
    }
   ],
   "source": [
    "editor.fill_line_up(25)"
   ]
  },
  {
   "cell_type": "code",
   "execution_count": null,
   "metadata": {},
   "outputs": [],
   "source": []
  }
 ],
 "metadata": {
  "kernelspec": {
   "display_name": "Python 3",
   "language": "python",
   "name": "python3"
  },
  "language_info": {
   "codemirror_mode": {
    "name": "ipython",
    "version": 3
   },
   "file_extension": ".py",
   "mimetype": "text/x-python",
   "name": "python",
   "nbconvert_exporter": "python",
   "pygments_lexer": "ipython3",
   "version": "3.9.0+"
  }
 },
 "nbformat": 4,
 "nbformat_minor": 4
}
