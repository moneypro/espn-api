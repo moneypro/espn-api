{
 "cells": [
  {
   "cell_type": "code",
   "execution_count": 2,
   "metadata": {},
   "outputs": [],
   "source": [
    "from espn_api.basketball import League, Matchup, Team\n",
    "from activity.myUtil import get_opponent_team, get_my_team\n",
    "from espn_api.basketball.week import Week\n",
    "from espn_api.basketball.roster_week_predictor import RosterWeekPredictor\n",
    "\n",
    "from IPython.display import HTML, display\n",
    "import tabulate"
   ]
  },
  {
   "cell_type": "code",
   "execution_count": 3,
   "metadata": {},
   "outputs": [],
   "source": [
    "espn_s2 = \"AECc%2BKMx5L8l9Rai5PHG%2FT%2Fjtw%2BR%2FZozX391uxpta1J6tD61%2F4NV88%2BVPlCSe0Wjcg0J9jJ0oTJ%2BMkehJLT8MSDfgiubWB9F1n3H%2BnTHWc9OTkzM2ceQFGPiA%2B9AF4yQzt0I3%2FdCgk%2BdQLbgybhS6y1yRS9NIDyfXMSgcqFqRbn5F7zBTzwu9A%2BD2Pi6g6KMR29PbmNbtxSrCJkfbF%2BaZtrpqDbHBZhLyfqOAhQIDx0q1iD0u1DkhxVNoRnxx%2FmEvS%2FHEJZWmfvZM%2F0IAHxPrfVx\"\n",
    "swid=\"{3C4A75B6-F84B-48AE-8A75-B6F84B48AE47}\""
   ]
  },
  {
   "cell_type": "code",
   "execution_count": 4,
   "metadata": {},
   "outputs": [],
   "source": [
    "league = League(league_id=30695, year=2021, espn_s2=espn_s2, swid=swid)"
   ]
  },
  {
   "cell_type": "code",
   "execution_count": 5,
   "metadata": {},
   "outputs": [
    {
     "data": {
      "text/html": [
       "<table>\n",
       "<tbody>\n",
       "<tr><td>Team Name          </td><td>Team Id</td></tr>\n",
       "<tr><td>CZ ButtKicker      </td><td>1      </td></tr>\n",
       "<tr><td>SEA MoNeYPro       </td><td>2      </td></tr>\n",
       "<tr><td>NY Zhanos Diesel   </td><td>4      </td></tr>\n",
       "<tr><td>Shanghai SHARKS    </td><td>5      </td></tr>\n",
       "<tr><td>Team Tao           </td><td>7      </td></tr>\n",
       "<tr><td>Team Beyond        </td><td>9      </td></tr>\n",
       "<tr><td>PHI Lower Merion 33</td><td>11     </td></tr>\n",
       "<tr><td>Badwomen ``        </td><td>14     </td></tr>\n",
       "<tr><td>Dragon City Tiedan </td><td>15     </td></tr>\n",
       "<tr><td>Tim Liang          </td><td>16     </td></tr>\n",
       "</tbody>\n",
       "</table>"
      ],
      "text/plain": [
       "<IPython.core.display.HTML object>"
      ]
     },
     "metadata": {},
     "output_type": "display_data"
    }
   ],
   "source": [
    "table_output = [(\"Team Name\", \"Team Id\")]\n",
    "[table_output.append((team.team_name, team.team_id)) for team in league.teams]\n",
    "display(HTML(tabulate.tabulate(table_output, tablefmt='html')))"
   ]
  },
  {
   "cell_type": "markdown",
   "metadata": {},
   "source": [
    "Put your **team id** into the variable below:"
   ]
  },
  {
   "cell_type": "code",
   "execution_count": 8,
   "metadata": {},
   "outputs": [],
   "source": [
    "MY_TEAM_ID = 2"
   ]
  },
  {
   "cell_type": "code",
   "execution_count": 19,
   "metadata": {},
   "outputs": [
    {
     "data": {
      "text/html": [
       "<table>\n",
       "<tbody>\n",
       "<tr><td>Week Id</td><td>Opponent Team Name </td></tr>\n",
       "<tr><td>1      </td><td>Tim Liang          </td></tr>\n",
       "<tr><td>2      </td><td>Dragon City Tiedan </td></tr>\n",
       "<tr><td>3      </td><td>Team Beyond        </td></tr>\n",
       "<tr><td>4      </td><td>PHI Lower Merion 33</td></tr>\n",
       "<tr><td>5      </td><td>Team Tao           </td></tr>\n",
       "<tr><td>6      </td><td>CZ ButtKicker      </td></tr>\n",
       "<tr><td>7      </td><td>NY Zhanos Diesel   </td></tr>\n",
       "<tr><td>8      </td><td>Badwomen ``        </td></tr>\n",
       "<tr><td>9      </td><td>Team Tao           </td></tr>\n",
       "<tr><td>10     </td><td>Tim Liang          </td></tr>\n",
       "<tr><td>11     </td><td>Shanghai SHARKS    </td></tr>\n",
       "<tr><td>12     </td><td>Team Beyond        </td></tr>\n",
       "<tr><td>13     </td><td>PHI Lower Merion 33</td></tr>\n",
       "<tr><td>14     </td><td>Dragon City Tiedan </td></tr>\n",
       "<tr><td>15     </td><td>CZ ButtKicker      </td></tr>\n",
       "<tr><td>16     </td><td>NY Zhanos Diesel   </td></tr>\n",
       "<tr><td>17     </td><td>Badwomen ``        </td></tr>\n",
       "</tbody>\n",
       "</table>"
      ],
      "text/plain": [
       "<IPython.core.display.HTML object>"
      ]
     },
     "metadata": {},
     "output_type": "display_data"
    }
   ],
   "source": [
    "schedule = league.get_team_data(MY_TEAM_ID).schedule\n",
    "table_output = [(\"Week Id\", \"Opponent Team Name\")]\n",
    "[table_output.append((week_id + 1, get_opponent_team(matchup, MY_TEAM_ID).team_name)) for week_id, matchup in enumerate(schedule)]\n",
    "display(HTML(tabulate.tabulate(table_output, tablefmt='html')))"
   ]
  },
  {
   "cell_type": "code",
   "execution_count": 20,
   "metadata": {},
   "outputs": [],
   "source": [
    "WEEK_ID = 3"
   ]
  },
  {
   "cell_type": "code",
   "execution_count": 21,
   "metadata": {},
   "outputs": [],
   "source": [
    "currWeek = Week(league, WEEK_ID)"
   ]
  },
  {
   "cell_type": "code",
   "execution_count": 22,
   "metadata": {},
   "outputs": [],
   "source": [
    "predicted_points_team_name_map = {}\n",
    "number_of_games_team_name_map = {}\n",
    "for team in league.teams:\n",
    "    predictor = RosterWeekPredictor(team.roster, currWeek)\n",
    "    predicted_points_team_name_map[team.team_name] = predictor.predict()\n",
    "    number_of_games_team_name_map[team.team_name] = predictor.get_total_number_of_games()"
   ]
  },
  {
   "cell_type": "code",
   "execution_count": 23,
   "metadata": {},
   "outputs": [],
   "source": [
    "def get_tuple_average(tup):\n",
    "    return (tup[0] + tup[1]) / 2"
   ]
  },
  {
   "cell_type": "code",
   "execution_count": 24,
   "metadata": {},
   "outputs": [],
   "source": [
    "team_scores = {}\n",
    "for team in league.teams:\n",
    "    predicted_points = predicted_points_team_name_map[team.team_name]\n",
    "    team_scores[team.team_name] = predicted_points[0], predicted_points[1], get_tuple_average(predicted_points)"
   ]
  },
  {
   "cell_type": "code",
   "execution_count": 25,
   "metadata": {},
   "outputs": [],
   "source": [
    "table_output = []\n",
    "for team_name, scores in team_scores.items():\n",
    "    lo, hi, avg = scores\n",
    "    table_output.append((team_name, number_of_games_team_name_map[team_name], lo, hi, avg))\n",
    "table_output.sort(reverse=True, key=lambda x: x[-1])"
   ]
  },
  {
   "cell_type": "code",
   "execution_count": 26,
   "metadata": {},
   "outputs": [
    {
     "data": {
      "text/html": [
       "<table>\n",
       "<tbody>\n",
       "<tr><td>Team Name          </td><td># of games</td><td>Low               </td><td>High              </td><td>Avg               </td></tr>\n",
       "<tr><td>Badwomen ``        </td><td>45        </td><td>1509.057142857143 </td><td>1650.5119047619048</td><td>1579.7845238095238</td></tr>\n",
       "<tr><td>Shanghai SHARKS    </td><td>45        </td><td>1495.4642857142856</td><td>1626.1833333333334</td><td>1560.8238095238094</td></tr>\n",
       "<tr><td>SEA MoNeYPro       </td><td>42        </td><td>1332.3809523809523</td><td>1526.5666666666668</td><td>1429.4738095238095</td></tr>\n",
       "<tr><td>PHI Lower Merion 33</td><td>37        </td><td>1323.1214285714286</td><td>1441.1642857142856</td><td>1382.142857142857 </td></tr>\n",
       "<tr><td>NY Zhanos Diesel   </td><td>41        </td><td>1231.5547619047618</td><td>1384.807142857143 </td><td>1308.1809523809525</td></tr>\n",
       "<tr><td>Dragon City Tiedan </td><td>43        </td><td>1184.595238095238 </td><td>1423.2238095238095</td><td>1303.9095238095238</td></tr>\n",
       "<tr><td>Team Tao           </td><td>41        </td><td>1215.25           </td><td>1325.4785714285713</td><td>1270.3642857142856</td></tr>\n",
       "<tr><td>CZ ButtKicker      </td><td>42        </td><td>1174.9333333333334</td><td>1329.9            </td><td>1252.4166666666667</td></tr>\n",
       "<tr><td>Tim Liang          </td><td>37        </td><td>1129.55           </td><td>1305.8214285714284</td><td>1217.6857142857143</td></tr>\n",
       "<tr><td>Team Beyond        </td><td>38        </td><td>1060.3809523809525</td><td>1158.3333333333335</td><td>1109.3571428571431</td></tr>\n",
       "</tbody>\n",
       "</table>"
      ],
      "text/plain": [
       "<IPython.core.display.HTML object>"
      ]
     },
     "metadata": {},
     "output_type": "display_data"
    }
   ],
   "source": [
    "table_output.insert(0, (\"Team Name\", \"# of games\", \"Low\", \"High\", \"Avg\"))\n",
    "display(HTML(tabulate.tabulate(table_output, tablefmt='html')))"
   ]
  },
  {
   "cell_type": "code",
   "execution_count": 15,
   "metadata": {},
   "outputs": [],
   "source": [
    "match_up_points = []\n",
    "match_up_points.append([\"Home Team\", \"Estimate Points\", \"# of Games\", \"Away Team\", \"Estimate Points\", \"# of Games\", \"+/-\"])\n",
    "for matchup in league.scoreboard():\n",
    "    home_team_average = team_scores[matchup.home_team.team_name][-1]\n",
    "    away_team_average = team_scores[matchup.away_team.team_name][-1]\n",
    "    match_up_points.append([matchup.home_team.team_name, home_team_average, number_of_games_team_name_map[matchup.home_team.team_name],\n",
    "                            matchup.away_team.team_name, away_team_average, number_of_games_team_name_map[matchup.away_team.team_name],\n",
    "                           home_team_average - away_team_average])"
   ]
  },
  {
   "cell_type": "code",
   "execution_count": 16,
   "metadata": {},
   "outputs": [
    {
     "data": {
      "text/html": [
       "<table>\n",
       "<tbody>\n",
       "<tr><td>Home Team          </td><td>Estimate Points   </td><td># of Games</td><td>Away Team       </td><td>Estimate Points   </td><td># of Games</td><td>+/-                </td></tr>\n",
       "<tr><td>Team Tao           </td><td>1270.3642857142856</td><td>41        </td><td>Shanghai SHARKS </td><td>1560.8238095238094</td><td>45        </td><td>-290.4595238095237 </td></tr>\n",
       "<tr><td>SEA MoNeYPro       </td><td>1429.4738095238095</td><td>42        </td><td>Team Beyond     </td><td>1109.3571428571431</td><td>38        </td><td>320.11666666666633 </td></tr>\n",
       "<tr><td>Dragon City Tiedan </td><td>1303.9095238095238</td><td>43        </td><td>Badwomen ``     </td><td>1579.7845238095238</td><td>45        </td><td>-275.875           </td></tr>\n",
       "<tr><td>PHI Lower Merion 33</td><td>1382.142857142857 </td><td>37        </td><td>Tim Liang       </td><td>1217.6857142857143</td><td>37        </td><td>164.4571428571428  </td></tr>\n",
       "<tr><td>CZ ButtKicker      </td><td>1252.4166666666667</td><td>42        </td><td>NY Zhanos Diesel</td><td>1308.1809523809525</td><td>41        </td><td>-55.764285714285734</td></tr>\n",
       "</tbody>\n",
       "</table>"
      ],
      "text/plain": [
       "<IPython.core.display.HTML object>"
      ]
     },
     "metadata": {},
     "output_type": "display_data"
    }
   ],
   "source": [
    "display(HTML(tabulate.tabulate(match_up_points, tablefmt='html')))"
   ]
  },
  {
   "cell_type": "code",
   "execution_count": 5,
   "metadata": {},
   "outputs": [
    {
     "name": "stdout",
     "output_type": "stream",
     "text": [
      "moving player Trae Young\n",
      "{'isLeagueManager': 'false', 'teamId': 2, 'type': 'FUTURE_ROSTER', 'memberId': '{3C4A75B6-F84B-48AE-8A75-B6F84B48AE47}', 'scoringPeriodId': 14, 'executionType': 'EXECUTE', 'items': [{'playerId': 4277905, 'type': 'LINEUP', 'fromLineupSlotId': 0, 'toLineupSlotId': 12}]}\n",
      "moving player Jayson Tatum\n",
      "{'isLeagueManager': 'false', 'teamId': 2, 'type': 'FUTURE_ROSTER', 'memberId': '{3C4A75B6-F84B-48AE-8A75-B6F84B48AE47}', 'scoringPeriodId': 14, 'executionType': 'EXECUTE', 'items': [{'playerId': 4065648, 'type': 'LINEUP', 'fromLineupSlotId': 0, 'toLineupSlotId': 12}]}\n",
      "moving player Paul George\n",
      "{'isLeagueManager': 'false', 'teamId': 2, 'type': 'FUTURE_ROSTER', 'memberId': '{3C4A75B6-F84B-48AE-8A75-B6F84B48AE47}', 'scoringPeriodId': 14, 'executionType': 'EXECUTE', 'items': [{'playerId': 4251, 'type': 'LINEUP', 'fromLineupSlotId': 0, 'toLineupSlotId': 12}]}\n",
      "moving player Pascal Siakam\n",
      "{'isLeagueManager': 'false', 'teamId': 2, 'type': 'FUTURE_ROSTER', 'memberId': '{3C4A75B6-F84B-48AE-8A75-B6F84B48AE47}', 'scoringPeriodId': 14, 'executionType': 'EXECUTE', 'items': [{'playerId': 3149673, 'type': 'LINEUP', 'fromLineupSlotId': 0, 'toLineupSlotId': 12}]}\n",
      "moving player Jonas Valanciunas\n",
      "{'isLeagueManager': 'false', 'teamId': 2, 'type': 'FUTURE_ROSTER', 'memberId': '{3C4A75B6-F84B-48AE-8A75-B6F84B48AE47}', 'scoringPeriodId': 14, 'executionType': 'EXECUTE', 'items': [{'playerId': 6477, 'type': 'LINEUP', 'fromLineupSlotId': 0, 'toLineupSlotId': 12}]}\n",
      "moving player Victor Oladipo\n",
      "{'isLeagueManager': 'false', 'teamId': 2, 'type': 'FUTURE_ROSTER', 'memberId': '{3C4A75B6-F84B-48AE-8A75-B6F84B48AE47}', 'scoringPeriodId': 14, 'executionType': 'EXECUTE', 'items': [{'playerId': 2527963, 'type': 'LINEUP', 'fromLineupSlotId': 0, 'toLineupSlotId': 12}]}\n",
      "moving player LaMelo Ball\n",
      "{'isLeagueManager': 'false', 'teamId': 2, 'type': 'FUTURE_ROSTER', 'memberId': '{3C4A75B6-F84B-48AE-8A75-B6F84B48AE47}', 'scoringPeriodId': 14, 'executionType': 'EXECUTE', 'items': [{'playerId': 4432816, 'type': 'LINEUP', 'fromLineupSlotId': 0, 'toLineupSlotId': 12}]}\n",
      "moving player Aaron Gordon\n",
      "{'isLeagueManager': 'false', 'teamId': 2, 'type': 'FUTURE_ROSTER', 'memberId': '{3C4A75B6-F84B-48AE-8A75-B6F84B48AE47}', 'scoringPeriodId': 14, 'executionType': 'EXECUTE', 'items': [{'playerId': 3064290, 'type': 'LINEUP', 'fromLineupSlotId': 0, 'toLineupSlotId': 12}]}\n",
      "moving player Markelle Fultz\n",
      "{'isLeagueManager': 'false', 'teamId': 2, 'type': 'FUTURE_ROSTER', 'memberId': '{3C4A75B6-F84B-48AE-8A75-B6F84B48AE47}', 'scoringPeriodId': 14, 'executionType': 'EXECUTE', 'items': [{'playerId': 4066636, 'type': 'LINEUP', 'fromLineupSlotId': 0, 'toLineupSlotId': 12}]}\n",
      "moving player Wendell Carter Jr.\n",
      "{'isLeagueManager': 'false', 'teamId': 2, 'type': 'FUTURE_ROSTER', 'memberId': '{3C4A75B6-F84B-48AE-8A75-B6F84B48AE47}', 'scoringPeriodId': 14, 'executionType': 'EXECUTE', 'items': [{'playerId': 4277847, 'type': 'LINEUP', 'fromLineupSlotId': 0, 'toLineupSlotId': 12}]}\n",
      "moving player Zach LaVine\n",
      "{'isLeagueManager': 'false', 'teamId': 2, 'type': 'FUTURE_ROSTER', 'memberId': '{3C4A75B6-F84B-48AE-8A75-B6F84B48AE47}', 'scoringPeriodId': 14, 'executionType': 'EXECUTE', 'items': [{'playerId': 3064440, 'type': 'LINEUP', 'fromLineupSlotId': 0, 'toLineupSlotId': 12}]}\n",
      "moving player Collin Sexton\n",
      "{'isLeagueManager': 'false', 'teamId': 2, 'type': 'FUTURE_ROSTER', 'memberId': '{3C4A75B6-F84B-48AE-8A75-B6F84B48AE47}', 'scoringPeriodId': 14, 'executionType': 'EXECUTE', 'items': [{'playerId': 4277811, 'type': 'LINEUP', 'fromLineupSlotId': 0, 'toLineupSlotId': 12}]}\n",
      "moving player Blake Griffin\n",
      "{'isLeagueManager': 'false', 'teamId': 2, 'type': 'FUTURE_ROSTER', 'memberId': '{3C4A75B6-F84B-48AE-8A75-B6F84B48AE47}', 'scoringPeriodId': 14, 'executionType': 'EXECUTE', 'items': [{'playerId': 3989, 'type': 'LINEUP', 'fromLineupSlotId': 0, 'toLineupSlotId': 12}]}\n",
      "moving player Mike Muscala\n",
      "{'isLeagueManager': 'false', 'teamId': 2, 'type': 'FUTURE_ROSTER', 'memberId': '{3C4A75B6-F84B-48AE-8A75-B6F84B48AE47}', 'scoringPeriodId': 14, 'executionType': 'EXECUTE', 'items': [{'playerId': 2490089, 'type': 'LINEUP', 'fromLineupSlotId': 0, 'toLineupSlotId': 12}]}\n"
     ]
    },
    {
     "ename": "Exception",
     "evalue": "Unknown 409 Error",
     "output_type": "error",
     "traceback": [
      "\u001b[0;31m---------------------------------------------------------------------------\u001b[0m",
      "\u001b[0;31mException\u001b[0m                                 Traceback (most recent call last)",
      "\u001b[0;32m<ipython-input-5-0f1c3f43f89d>\u001b[0m in \u001b[0;36m<module>\u001b[0;34m\u001b[0m\n\u001b[1;32m      2\u001b[0m \u001b[0;34m\u001b[0m\u001b[0m\n\u001b[1;32m      3\u001b[0m \u001b[0meditor\u001b[0m \u001b[0;34m=\u001b[0m \u001b[0mLineUpEditor\u001b[0m\u001b[0;34m(\u001b[0m\u001b[0mleague\u001b[0m\u001b[0;34m)\u001b[0m\u001b[0;34m\u001b[0m\u001b[0;34m\u001b[0m\u001b[0m\n\u001b[0;32m----> 4\u001b[0;31m \u001b[0meditor\u001b[0m\u001b[0;34m.\u001b[0m\u001b[0mbench_all_players\u001b[0m\u001b[0;34m(\u001b[0m\u001b[0mMY_TEAM_ID\u001b[0m\u001b[0;34m,\u001b[0m \u001b[0;36m14\u001b[0m\u001b[0;34m)\u001b[0m\u001b[0;34m\u001b[0m\u001b[0;34m\u001b[0m\u001b[0m\n\u001b[0m",
      "\u001b[0;32m/mnt/c/Users/MoNeY_Pro/PycharmProjects/espn-api/espn_api/basketball/line_up_editer.py\u001b[0m in \u001b[0;36mbench_all_players\u001b[0;34m(self, team_id, scoring_period)\u001b[0m\n\u001b[1;32m     29\u001b[0m                    \"items\": move_to_bench_command}\n\u001b[1;32m     30\u001b[0m             \u001b[0mprint\u001b[0m\u001b[0;34m(\u001b[0m\u001b[0mpayload\u001b[0m\u001b[0;34m)\u001b[0m\u001b[0;34m\u001b[0m\u001b[0;34m\u001b[0m\u001b[0m\n\u001b[0;32m---> 31\u001b[0;31m             \u001b[0mself\u001b[0m\u001b[0;34m.\u001b[0m\u001b[0mchange_line_up\u001b[0m\u001b[0;34m(\u001b[0m\u001b[0mpayload\u001b[0m\u001b[0;34m)\u001b[0m\u001b[0;34m\u001b[0m\u001b[0;34m\u001b[0m\u001b[0m\n\u001b[0m",
      "\u001b[0;32m/mnt/c/Users/MoNeY_Pro/PycharmProjects/espn-api/espn_api/basketball/line_up_editer.py\u001b[0m in \u001b[0;36mchange_line_up\u001b[0;34m(self, payload)\u001b[0m\n\u001b[1;32m     17\u001b[0m \u001b[0;34m\u001b[0m\u001b[0m\n\u001b[1;32m     18\u001b[0m     \u001b[0;32mdef\u001b[0m \u001b[0mchange_line_up\u001b[0m\u001b[0;34m(\u001b[0m\u001b[0mself\u001b[0m\u001b[0;34m,\u001b[0m \u001b[0mpayload\u001b[0m\u001b[0;34m)\u001b[0m\u001b[0;34m:\u001b[0m\u001b[0;34m\u001b[0m\u001b[0;34m\u001b[0m\u001b[0m\n\u001b[0;32m---> 19\u001b[0;31m         \u001b[0mdata\u001b[0m \u001b[0;34m=\u001b[0m \u001b[0mself\u001b[0m\u001b[0;34m.\u001b[0m\u001b[0mleague\u001b[0m\u001b[0;34m.\u001b[0m\u001b[0mespn_request\u001b[0m\u001b[0;34m.\u001b[0m\u001b[0mleague_post\u001b[0m\u001b[0;34m(\u001b[0m\u001b[0mpayload\u001b[0m\u001b[0;34m=\u001b[0m\u001b[0mpayload\u001b[0m\u001b[0;34m,\u001b[0m \u001b[0mextend\u001b[0m\u001b[0;34m=\u001b[0m\u001b[0;34m\"/transactions/\"\u001b[0m\u001b[0;34m)\u001b[0m\u001b[0;34m\u001b[0m\u001b[0;34m\u001b[0m\u001b[0m\n\u001b[0m\u001b[1;32m     20\u001b[0m         \u001b[0;32mreturn\u001b[0m \u001b[0mdata\u001b[0m\u001b[0;34m\u001b[0m\u001b[0;34m\u001b[0m\u001b[0m\n\u001b[1;32m     21\u001b[0m \u001b[0;34m\u001b[0m\u001b[0m\n",
      "\u001b[0;32m/mnt/c/Users/MoNeY_Pro/PycharmProjects/espn-api/espn_api/requests/espn_requests.py\u001b[0m in \u001b[0;36mleague_post\u001b[0;34m(self, payload, headers, extend)\u001b[0m\n\u001b[1;32m     45\u001b[0m         \u001b[0mendpoint\u001b[0m \u001b[0;34m=\u001b[0m \u001b[0mself\u001b[0m\u001b[0;34m.\u001b[0m\u001b[0mLEAGUE_ENDPOINT\u001b[0m \u001b[0;34m+\u001b[0m \u001b[0mextend\u001b[0m\u001b[0;34m\u001b[0m\u001b[0;34m\u001b[0m\u001b[0m\n\u001b[1;32m     46\u001b[0m         \u001b[0mr\u001b[0m \u001b[0;34m=\u001b[0m \u001b[0mrequests\u001b[0m\u001b[0;34m.\u001b[0m\u001b[0mpost\u001b[0m\u001b[0;34m(\u001b[0m\u001b[0mendpoint\u001b[0m\u001b[0;34m,\u001b[0m \u001b[0mjson\u001b[0m\u001b[0;34m=\u001b[0m\u001b[0mpayload\u001b[0m\u001b[0;34m,\u001b[0m \u001b[0mheaders\u001b[0m\u001b[0;34m=\u001b[0m\u001b[0mheaders\u001b[0m\u001b[0;34m,\u001b[0m \u001b[0mcookies\u001b[0m\u001b[0;34m=\u001b[0m\u001b[0mself\u001b[0m\u001b[0;34m.\u001b[0m\u001b[0mcookies\u001b[0m\u001b[0;34m)\u001b[0m\u001b[0;34m\u001b[0m\u001b[0;34m\u001b[0m\u001b[0m\n\u001b[0;32m---> 47\u001b[0;31m         \u001b[0mcheckRequestStatus\u001b[0m\u001b[0;34m(\u001b[0m\u001b[0mr\u001b[0m\u001b[0;34m.\u001b[0m\u001b[0mstatus_code\u001b[0m\u001b[0;34m)\u001b[0m\u001b[0;34m\u001b[0m\u001b[0;34m\u001b[0m\u001b[0m\n\u001b[0m\u001b[1;32m     48\u001b[0m         \u001b[0;32mif\u001b[0m \u001b[0mself\u001b[0m\u001b[0;34m.\u001b[0m\u001b[0mlogger\u001b[0m\u001b[0;34m:\u001b[0m\u001b[0;34m\u001b[0m\u001b[0;34m\u001b[0m\u001b[0m\n\u001b[1;32m     49\u001b[0m             \u001b[0mself\u001b[0m\u001b[0;34m.\u001b[0m\u001b[0mlogger\u001b[0m\u001b[0;34m.\u001b[0m\u001b[0mlog_request\u001b[0m\u001b[0;34m(\u001b[0m\u001b[0mendpoint\u001b[0m\u001b[0;34m=\u001b[0m\u001b[0mendpoint\u001b[0m\u001b[0;34m,\u001b[0m \u001b[0mparams\u001b[0m\u001b[0;34m=\u001b[0m\u001b[0mpayload\u001b[0m\u001b[0;34m,\u001b[0m \u001b[0mheaders\u001b[0m\u001b[0;34m=\u001b[0m\u001b[0mheaders\u001b[0m\u001b[0;34m,\u001b[0m \u001b[0mresponse\u001b[0m\u001b[0;34m=\u001b[0m\u001b[0mr\u001b[0m\u001b[0;34m.\u001b[0m\u001b[0mjson\u001b[0m\u001b[0;34m(\u001b[0m\u001b[0;34m)\u001b[0m\u001b[0;34m)\u001b[0m\u001b[0;34m\u001b[0m\u001b[0;34m\u001b[0m\u001b[0m\n",
      "\u001b[0;32m/mnt/c/Users/MoNeY_Pro/PycharmProjects/espn-api/espn_api/requests/espn_requests.py\u001b[0m in \u001b[0;36mcheckRequestStatus\u001b[0;34m(status)\u001b[0m\n\u001b[1;32m     14\u001b[0m \u001b[0;34m\u001b[0m\u001b[0m\n\u001b[1;32m     15\u001b[0m     \u001b[0;32melif\u001b[0m \u001b[0mstatus\u001b[0m \u001b[0;34m!=\u001b[0m \u001b[0;36m200\u001b[0m\u001b[0;34m:\u001b[0m\u001b[0;34m\u001b[0m\u001b[0;34m\u001b[0m\u001b[0m\n\u001b[0;32m---> 16\u001b[0;31m         \u001b[0;32mraise\u001b[0m \u001b[0mException\u001b[0m\u001b[0;34m(\u001b[0m\u001b[0;34m'Unknown %s Error'\u001b[0m \u001b[0;34m%\u001b[0m \u001b[0mstatus\u001b[0m\u001b[0;34m)\u001b[0m\u001b[0;34m\u001b[0m\u001b[0;34m\u001b[0m\u001b[0m\n\u001b[0m\u001b[1;32m     17\u001b[0m \u001b[0;34m\u001b[0m\u001b[0m\n\u001b[1;32m     18\u001b[0m \u001b[0;32mclass\u001b[0m \u001b[0mEspnFantasyRequests\u001b[0m\u001b[0;34m(\u001b[0m\u001b[0mobject\u001b[0m\u001b[0;34m)\u001b[0m\u001b[0;34m:\u001b[0m\u001b[0;34m\u001b[0m\u001b[0;34m\u001b[0m\u001b[0m\n",
      "\u001b[0;31mException\u001b[0m: Unknown 409 Error"
     ]
    }
   ],
   "source": [
    "from espn_api.basketball.line_up_editer import LineUpEditor\n",
    "\n",
    "editor = LineUpEditor(league)\n",
    "editor.bench_all_players(MY_TEAM_ID, 14)"
   ]
  },
  {
   "cell_type": "code",
   "execution_count": null,
   "metadata": {},
   "outputs": [],
   "source": []
  }
 ],
 "metadata": {
  "kernelspec": {
   "display_name": "Python 3",
   "language": "python",
   "name": "python3"
  },
  "language_info": {
   "codemirror_mode": {
    "name": "ipython",
    "version": 3
   },
   "file_extension": ".py",
   "mimetype": "text/x-python",
   "name": "python",
   "nbconvert_exporter": "python",
   "pygments_lexer": "ipython3",
   "version": "3.9.0+"
  }
 },
 "nbformat": 4,
 "nbformat_minor": 4
}
